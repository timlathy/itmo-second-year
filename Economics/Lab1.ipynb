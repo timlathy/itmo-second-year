{
 "cells": [
  {
   "cell_type": "markdown",
   "metadata": {},
   "source": [
    "# Оценка использования основных фондов (ОФ) предприятия\n",
    "\n",
    "## Исходные данные (вариант 10)\n",
    "\n",
    "### Таблица 1\n",
    "\n",
    "* Среднегодовая балансовая стоимость ОПФ (Фо): тыс. у.д.е.\n",
    "* Средние фактические сроки службы ОПФ (Тф): лет         "
   ]
  },
  {
   "cell_type": "code",
   "execution_count": null,
   "metadata": {},
   "outputs": [],
   "source": [
    "import pandas as pd\n",
    "\n",
    "table1 = pd.DataFrame(data={\n",
    "    'Фо': [19450, 1633, 945, 1084, 31200, 1740, 2232, 1212, 1016, 470],\n",
    "    'Тф': [28, 16, 11, 12, 6, 5, 4, 6, 3, 8]\n",
    "}, index=[\n",
    "    'Здания',\n",
    "    'Сооружения',\n",
    "    'Передаточные устройства',\n",
    "    'Силовые машины и оборудование',\n",
    "    'Рабочие  машины и оборудование',\n",
    "    'Измерительные и регулирующие приборы и устройства, лабораторн. обор-е',\n",
    "    'Вычислительная техника',\n",
    "    'Транспортные средства',\n",
    "    'Инструмент',\n",
    "    'Производственный и хозяйств. инвентарь и принадлежности'\n",
    "])\n",
    "table1.append(table1.select_dtypes(pd.np.number).sum().rename('ВСЕГО ОПФ'))"
   ]
  },
  {
   "cell_type": "code",
   "execution_count": null,
   "metadata": {},
   "outputs": [],
   "source": [
    "table2 = pd.DataFrame(data={'Показатели': [17.4, 1994, 4, 12]}, index=[\n",
    "    'Оптовая цена станка, тыс.руб.',\n",
    "    'Год приобретения',\n",
    "    'Транспортные расходы, % от оптовой цены',\n",
    "    'Затраты на монтаж и отладку, % от оптовой цены'\n",
    "])\n",
    "# table2['Показатели']['Оптовая цена станка, тыс.руб.']\n",
    "table2"
   ]
  },
  {
   "cell_type": "code",
   "execution_count": null,
   "metadata": {},
   "outputs": [],
   "source": [
    "table3 = pd.DataFrame(data={'Показатели': [48, 12, 'август', 7, 'июль']}, index=[\n",
    "    'Стоимость ОПФ на 1 января текущего года, тыс. у.д.е.',\n",
    "    'Введено ОПФ в текущем году, тыс. у.д.е.',\n",
    "    'Дата ввода',\n",
    "    'Выбыло ОПФ в текущем году, тыс. у.д.е.',\n",
    "    'Дата выбытия'\n",
    "])\n",
    "table3"
   ]
  },
  {
   "cell_type": "code",
   "execution_count": null,
   "metadata": {},
   "outputs": [],
   "source": [
    "table4 = pd.DataFrame(data={\n",
    "    'План': [132, 55, 24],\n",
    "    'Отчет': [133.1, 52.2, 26]\n",
    "}, index=[\n",
    "    'Валовая продукция, тыс. у.д.е.',\n",
    "    'Среднегодовая стоимость основных производственных фондов, тыс. у.д.е.',\n",
    "    'Среднегодовая численность производственных рабочих, чел.',\n",
    "])\n",
    "table4"
   ]
  },
  {
   "cell_type": "code",
   "execution_count": null,
   "metadata": {},
   "outputs": [],
   "source": [
    "table5 = pd.DataFrame(data={'Показатели': [25, 10, 1520, 7568]}, index=[\n",
    "    'Количество станков в цехе',\n",
    "    'Средняя часовая производительность одного станка, шт.',\n",
    "    'Фактический выпуск изделий за смену, шт.',\n",
    "    'Фактически отработано за месяц, станко-часов'\n",
    "])\n",
    "table5"
   ]
  },
  {
   "cell_type": "markdown",
   "metadata": {},
   "source": [
    "## Определение структуры и состава основных фондов\n",
    "\n",
    "### 1. Удельный вес $d$ отдельных групп ОФ в общей их стоимости\n",
    "\n",
    "$$d = \\frac{\\overline{Ф}_{oi}}{\\sum^n_{i=1} \\overline{Ф}_{oi}}$$\n",
    "\n",
    "где $\\overline{Ф}_{oi}$ — среднегодовая стоимость $i$-й группы ОФ, $n$ — число групп."
   ]
  },
  {
   "cell_type": "code",
   "execution_count": null,
   "metadata": {},
   "outputs": [],
   "source": [
    "pd.DataFrame((table1['Фо'] / table1['Фо'].sum()).rename('Удельный вес $d$'))"
   ]
  },
  {
   "cell_type": "markdown",
   "metadata": {},
   "source": [
    "### 2. Удельный вес активной части в общей стоимости ОФ\n",
    "\n",
    "$$d_a = \\frac{\\sum^m_{i=1} \\overline{Ф}_{oa}}{\\sum^n_{i=1} \\overline{Ф}_{oi}}$$\n",
    "\n",
    "где $\\overline{Ф}_{oi}$ — среднегодовая стоимость $i$-й группы активной части ОФ, $m$ — число групп в составе активной части ОФ (машины и оборудование, инструмент и др.)"
   ]
  },
  {
   "cell_type": "code",
   "execution_count": null,
   "metadata": {},
   "outputs": [],
   "source": [
    "import numpy as np\n",
    "\n",
    "np.round(table1['Фо'][2:].sum() / table1['Фо'].sum(), 4)"
   ]
  },
  {
   "cell_type": "markdown",
   "metadata": {},
   "source": [
    "### 3. Удельный вес отдельных возрастных групп\n",
    "\n",
    "$$d_j = \\frac{\\sum^k_{i=1} \\overline{Ф}_{oi}}{\\sum^n_{i=1} \\overline{Ф}_{oi}}$$\n",
    "\n",
    "где $k$ — число групп в составе $j$-й возрастной группы"
   ]
  },
  {
   "cell_type": "code",
   "execution_count": null,
   "metadata": {},
   "outputs": [],
   "source": [
    "pd.DataFrame(data={'Удельный вес': [\n",
    "    table1.query('Тф < 5')['Фо'].sum() / table1['Фо'].sum(),\n",
    "    table1.query('Тф >= 5 & Тф < 10')['Фо'].sum() / table1['Фо'].sum(),\n",
    "    table1.query('Тф >= 10 & Тф < 20')['Фо'].sum() / table1['Фо'].sum(),\n",
    "    table1.query('Тф >= 20')['Фо'].sum()  / table1['Фо'].sum()\n",
    "]}, index=[\n",
    "    'до 5 лет', '5-10 лет', '10-20 лет', 'свыше 20 лет'\n",
    "])"
   ]
  },
  {
   "cell_type": "markdown",
   "metadata": {},
   "source": [
    "### Коэффициенты пересчета балансовой стоимости ОФ в восстановительную"
   ]
  },
  {
   "cell_type": "code",
   "execution_count": null,
   "metadata": {},
   "outputs": [],
   "source": [
    "table1_cfs = pd.DataFrame(data={\n",
    "    'нормы амортизац. отчислений, %': [2.00, 5.00, 5.00, 4.40, 7.00, 14.30, 12.00, 12.00, 25.00, 9.00],\n",
    "    'коэффициент пересчета': [1.67, 1.71, 1.71, 1.10, 1.45, 1.15, 1.05, 1.35, 1.30, 1.05]\n",
    "}, index=table1.index)\n",
    "table1_cfs"
   ]
  },
  {
   "cell_type": "markdown",
   "metadata": {},
   "source": [
    "### 4, 5, 6. Срок службы и износ\n",
    "\n",
    "Примем $a$ — норма амортизационных отчислений, $T_{ф}$ — средний фактический срок службы.\n",
    "\n",
    "* нормативный срок службы $$T_{н} = \\frac{1}{a} \\cdot 100$$\n",
    "* коэффициент физического износа $$K_{фи} = \\frac{T_{ф}}{T_{н}}$$\n",
    "* износ $$И_i = \\overline{Ф}_{oi} \\cdot a \\cdot T_{ф} \\cdot \\frac{1}{100}$$\n",
    "* коэффициент износа $$K_{изн_i} = \\frac{И_i}{\\overline{Ф}_{oi}}$$"
   ]
  },
  {
   "cell_type": "code",
   "execution_count": null,
   "metadata": {},
   "outputs": [],
   "source": [
    "standard_service_life = (table1_cfs['нормы амортизац. отчислений, %'] / 100).rename('$T_{н}$')\n",
    "physical_wear_ratio = (standard_service_life / table1['Тф']).rename('$K_{фи}$')\n",
    "wear = (table1['Фо'] * table1['Тф'] * table1_cfs['нормы амортизац. отчислений, %'] / 100).rename('$И_i$')\n",
    "wear_factor = (wear / table1['Фо']).rename('$K_{изн_i}$')\n",
    "\n",
    "pd.DataFrame(standard_service_life).join(physical_wear_ratio).join(wear).join(wear_factor)"
   ]
  }
 ],
 "metadata": {
  "kernelspec": {
   "display_name": "Python 3",
   "language": "python",
   "name": "python3"
  },
  "language_info": {
   "codemirror_mode": {
    "name": "ipython",
    "version": 3
   },
   "file_extension": ".py",
   "mimetype": "text/x-python",
   "name": "python",
   "nbconvert_exporter": "python",
   "pygments_lexer": "ipython3",
   "version": "3.7.2"
  }
 },
 "nbformat": 4,
 "nbformat_minor": 2
}
