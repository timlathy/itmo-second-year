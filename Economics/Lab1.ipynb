{
 "cells": [
  {
   "cell_type": "markdown",
   "metadata": {},
   "source": [
    "# Оценка использования основных фондов (ОФ) предприятия\n",
    "\n",
    "## Исходные данные (вариант 10)\n",
    "\n",
    "### Таблица 1\n",
    "\n",
    "* Среднегодовая балансовая стоимость ОПФ (Фо): тыс. у.д.е.\n",
    "* Средние фактические сроки службы ОПФ (Тф): лет         "
   ]
  },
  {
   "cell_type": "code",
   "execution_count": null,
   "metadata": {},
   "outputs": [],
   "source": [
    "import pandas as pd\n",
    "\n",
    "table1 = pd.DataFrame(data={\n",
    "    'Фо': [19450, 1633, 945, 1084, 31200, 1740, 2232, 1212, 1016, 470],\n",
    "    'Тф': [28, 16, 11, 12, 6, 5, 4, 6, 3, 8]\n",
    "}, index=[\n",
    "    'Здания',\n",
    "    'Сооружения',\n",
    "    'Передаточные устройства',\n",
    "    'Силовые машины и оборудование',\n",
    "    'Рабочие машины и оборудование',\n",
    "    'Измерительные и регулирующие приборы и устройства, лабораторн. обор-е',\n",
    "    'Вычислительная техника',\n",
    "    'Транспортные средства',\n",
    "    'Инструмент',\n",
    "    'Производственный и хозяйств. инвентарь и принадлежности'\n",
    "])\n",
    "table1.append(table1.select_dtypes(pd.np.number).sum().rename('ВСЕГО ОПФ'))"
   ]
  },
  {
   "cell_type": "code",
   "execution_count": null,
   "metadata": {},
   "outputs": [],
   "source": [
    "table2 = pd.DataFrame(data={'Показатели': [17.4, 1994, 4, 12]}, index=[\n",
    "    'Оптовая цена станка, тыс.руб.',\n",
    "    'Год приобретения',\n",
    "    'Транспортные расходы, % от оптовой цены',\n",
    "    'Затраты на монтаж и отладку, % от оптовой цены'\n",
    "])\n",
    "# table2['Показатели']['Оптовая цена станка, тыс.руб.']\n",
    "table2"
   ]
  },
  {
   "cell_type": "code",
   "execution_count": null,
   "metadata": {},
   "outputs": [],
   "source": [
    "table3 = pd.DataFrame(data={'Показатели': [48, 12, 8, 7, 7]}, index=[\n",
    "    'Стоимость ОПФ на 1 января текущего года, тыс. у.д.е.',\n",
    "    'Введено ОПФ в текущем году, тыс. у.д.е.',\n",
    "    'Дата ввода, номер месяца',\n",
    "    'Выбыло ОПФ в текущем году, тыс. у.д.е.',\n",
    "    'Дата выбытия, номер месяца'\n",
    "])\n",
    "table3"
   ]
  },
  {
   "cell_type": "code",
   "execution_count": null,
   "metadata": {},
   "outputs": [],
   "source": [
    "table4 = pd.DataFrame(data={\n",
    "    'План': [132, 55, 24],\n",
    "    'Отчет': [133.1, 52.2, 26]\n",
    "}, index=[\n",
    "    'Валовая продукция, тыс. у.д.е.',\n",
    "    'Среднегодовая стоимость основных производственных фондов, тыс. у.д.е.',\n",
    "    'Среднегодовая численность производственных рабочих, чел.',\n",
    "])\n",
    "table4"
   ]
  },
  {
   "cell_type": "code",
   "execution_count": null,
   "metadata": {},
   "outputs": [],
   "source": [
    "table5 = pd.DataFrame(data={'Показатели': [25, 10, 1520, 7568]}, index=[\n",
    "    'Количество станков в цехе',\n",
    "    'Средняя часовая производительность одного станка, шт.',\n",
    "    'Фактический выпуск изделий за смену, шт.',\n",
    "    'Фактически отработано за месяц, станко-часов'\n",
    "])\n",
    "table5"
   ]
  },
  {
   "cell_type": "markdown",
   "metadata": {},
   "source": [
    "## Определение структуры и состава основных фондов\n",
    "\n",
    "### 1. Удельный вес $d$ отдельных групп ОФ в общей их стоимости\n",
    "\n",
    "$$d = \\frac{\\overline{Ф}_{oi}}{\\sum^n_{i=1} \\overline{Ф}_{oi}}$$\n",
    "\n",
    "где $\\overline{Ф}_{oi}$ — среднегодовая стоимость $i$-й группы ОФ, $n$ — число групп."
   ]
  },
  {
   "cell_type": "code",
   "execution_count": null,
   "metadata": {},
   "outputs": [],
   "source": [
    "pd.DataFrame((table1['Фо'] / table1['Фо'].sum()).rename('Удельный вес $d$'))"
   ]
  },
  {
   "cell_type": "markdown",
   "metadata": {},
   "source": [
    "### 2. Удельный вес активной части в общей стоимости ОФ\n",
    "\n",
    "$$d_a = \\frac{\\sum^m_{i=1} \\overline{Ф}_{oa}}{\\sum^n_{i=1} \\overline{Ф}_{oi}}$$\n",
    "\n",
    "где $\\overline{Ф}_{oi}$ — среднегодовая стоимость $i$-й группы активной части ОФ, $m$ — число групп в составе активной части ОФ (машины и оборудование, инструмент и др.)"
   ]
  },
  {
   "cell_type": "code",
   "execution_count": null,
   "metadata": {},
   "outputs": [],
   "source": [
    "import numpy as np\n",
    "\n",
    "np.round(table1['Фо'][2:].sum() / table1['Фо'].sum(), 4)"
   ]
  },
  {
   "cell_type": "markdown",
   "metadata": {},
   "source": [
    "### 3. Удельный вес отдельных возрастных групп\n",
    "\n",
    "$$d_j = \\frac{\\sum^k_{i=1} \\overline{Ф}_{oi}}{\\sum^n_{i=1} \\overline{Ф}_{oi}}$$\n",
    "\n",
    "где $k$ — число групп в составе $j$-й возрастной группы"
   ]
  },
  {
   "cell_type": "code",
   "execution_count": null,
   "metadata": {},
   "outputs": [],
   "source": [
    "pd.DataFrame(data={'Удельный вес': [\n",
    "    table1.query('Тф < 5')['Фо'].sum() / table1['Фо'].sum(),\n",
    "    table1.query('Тф >= 5 & Тф < 10')['Фо'].sum() / table1['Фо'].sum(),\n",
    "    table1.query('Тф >= 10 & Тф < 20')['Фо'].sum() / table1['Фо'].sum(),\n",
    "    table1.query('Тф >= 20')['Фо'].sum()  / table1['Фо'].sum()\n",
    "]}, index=[\n",
    "    'до 5 лет', '5-10 лет', '10-20 лет', 'свыше 20 лет'\n",
    "])"
   ]
  },
  {
   "cell_type": "markdown",
   "metadata": {},
   "source": [
    "### Коэффициенты пересчета балансовой стоимости ОФ в восстановительную"
   ]
  },
  {
   "cell_type": "code",
   "execution_count": null,
   "metadata": {},
   "outputs": [],
   "source": [
    "table1_cfs = pd.DataFrame(data={\n",
    "    'нормы амортизац. отчислений, %': [2.00, 5.00, 5.00, 4.40, 7.00, 14.30, 12.00, 12.00, 25.00, 9.00],\n",
    "    'коэффициент пересчета': [1.67, 1.71, 1.71, 1.10, 1.45, 1.15, 1.05, 1.35, 1.30, 1.05]\n",
    "}, index=table1.index)\n",
    "table1_cfs"
   ]
  },
  {
   "cell_type": "markdown",
   "metadata": {},
   "source": [
    "### Срок службы и износ\n",
    "\n",
    "Примем $a$ — норма амортизационных отчислений, $T_{ф}$ — средний фактический срок службы.\n",
    "\n",
    "#### 4. Нормативный срок службы\n",
    "\n",
    "$$T_{н} = \\frac{1}{a} \\cdot 100$$\n",
    "\n",
    "#### 5. Коэффициент физического износа\n",
    "\n",
    "$$K_{фи} = \\frac{T_{ф}}{T_{н}}$$\n",
    "\n",
    "#### 6. Износ\n",
    "\n",
    "$$И_i = \\overline{Ф}_{oi} \\cdot a \\cdot T_{ф} \\cdot \\frac{1}{100}$$\n",
    "\n",
    "#### 7. Коэффициент износа\n",
    "\n",
    "$$K_{изн_i} = \\frac{И_i}{\\overline{Ф}_{oi}}$$"
   ]
  },
  {
   "cell_type": "code",
   "execution_count": null,
   "metadata": {},
   "outputs": [],
   "source": [
    "standard_service_life = (table1_cfs['нормы амортизац. отчислений, %'] / 100).rename('$T_{н}$')\n",
    "physical_wear_ratio = (standard_service_life / table1['Тф']).rename('$K_{фи}$')\n",
    "wear = (table1['Фо'] * table1['Тф'] * table1_cfs['нормы амортизац. отчислений, %'] / 100).rename('$И_i$')\n",
    "wear_factor = (wear / table1['Фо']).rename('$K_{изн_i}$')\n",
    "\n",
    "pd.DataFrame(standard_service_life).join(physical_wear_ratio).join(wear).join(wear_factor)"
   ]
  },
  {
   "cell_type": "markdown",
   "metadata": {},
   "source": [
    "## Оценка основных фондов\n",
    "\n",
    "### 8. Среднегодовая стоимость ОФ\n",
    "\n",
    "$$\\overline{Ф}_o = \\overline{Ф}_o^{\\ н} + \\frac{\\overline{Ф}_o^{\\ вв} \\cdot m}{12} - \\frac{\\overline{Ф}_o^{\\ выб} \\cdot (12 - m)}{12}$$\n",
    "\n",
    "где:\n",
    "\n",
    "* $\\overline{Ф}_o^{\\ н}$ — стоимость ОФ на начало периода, \n",
    "* $\\overline{Ф}_o^{\\ вв}$ — стоимость введенных ОФ,\n",
    "* $\\overline{Ф}_o^{\\ выб}$ — стоимость выбывших (ликвидированных) ОФ,\n",
    "* $m$ — число месяцев функционирования ОФ."
   ]
  },
  {
   "cell_type": "code",
   "execution_count": null,
   "metadata": {},
   "outputs": [],
   "source": [
    "cost_at_period_start = table3['Показатели']['Стоимость ОПФ на 1 января текущего года, тыс. у.д.е.']\n",
    "cost_new = table3['Показатели']['Введено ОПФ в текущем году, тыс. у.д.е.']\n",
    "cost_expired = table3['Показатели']['Выбыло ОПФ в текущем году, тыс. у.д.е.']\n",
    "months_functioning = 12 - table3['Показатели']['Дата ввода, номер месяца'] + table3['Показатели']['Дата выбытия, номер месяца']\n",
    "avg_annual_cost = cost_at_period_start + (cost_new * months_functioning / 12) - (cost_expired * (12 - months_functioning) / 12)\n",
    "\n",
    "f'{np.round(avg_annual_cost, 3)} тыс. у.д.е'"
   ]
  },
  {
   "cell_type": "markdown",
   "metadata": {},
   "source": [
    "### 9. Стоимость ОФ на конец периода\n",
    "\n",
    "$$Ф_o^{\\ к} = Ф_o^{\\ н} + Ф_o^{\\ вв} - Ф_o^{\\ выб}$$"
   ]
  },
  {
   "cell_type": "code",
   "execution_count": null,
   "metadata": {},
   "outputs": [],
   "source": [
    "closing_cost = cost_at_period_start + cost_new - cost_expired\n",
    "f'{closing_cost} тыс. у.д.е'"
   ]
  },
  {
   "cell_type": "markdown",
   "metadata": {},
   "source": [
    "### 10. Коэффициент ввода (обновления)\n",
    "\n",
    "$$K_{вв} = \\frac{Ф_o^{\\ вв}}{Ф_o^{\\ к}}$$"
   ]
  },
  {
   "cell_type": "code",
   "execution_count": null,
   "metadata": {},
   "outputs": [],
   "source": [
    "renewal_rate = cost_new / closing_cost\n",
    "np.round(renewal_rate, 3)"
   ]
  },
  {
   "cell_type": "markdown",
   "metadata": {},
   "source": [
    "### 11. Коэффициент выбытия\n",
    "\n",
    "$$K_{выб} = \\frac{Ф_o^{\\ выб}}{Ф_o^{\\ н}}$$"
   ]
  },
  {
   "cell_type": "code",
   "execution_count": null,
   "metadata": {},
   "outputs": [],
   "source": [
    "retirement_rate = cost_expired / cost_at_period_start\n",
    "np.round(retirement_rate, 3)"
   ]
  },
  {
   "cell_type": "markdown",
   "metadata": {},
   "source": [
    "## Расчет амортизации основных фондов\n",
    "\n",
    "### 12. Первоначальная стоимость ОФ (балансовая стоимость)\n",
    "\n",
    "$$Ф_{оi}^{\\ б} = Ц_i + С_т + С_м$$\n",
    "\n",
    "где:\n",
    "\n",
    "* $Ц_i$ — цена $i$-го вида ОФ,\n",
    "* $С_т$ — стоимость транспортировки,\n",
    "* $С_м$ — стоимость монтажа и отладки."
   ]
  },
  {
   "cell_type": "code",
   "execution_count": null,
   "metadata": {},
   "outputs": [],
   "source": [
    "wholesale_machine_cost = table2['Показатели']['Оптовая цена станка, тыс.руб.']\n",
    "transportation_cost = wholesale_machine_cost * table2['Показатели']['Транспортные расходы, % от оптовой цены'] / 100\n",
    "installation_cost = wholesale_machine_cost * table2['Показатели']['Затраты на монтаж и отладку, % от оптовой цены'] / 100\n",
    "book_cost = wholesale_machine_cost + transportation_cost + installation_cost\n",
    "\n",
    "f'{np.round(book_cost, 3)} тыс.руб.'"
   ]
  },
  {
   "cell_type": "markdown",
   "metadata": {},
   "source": [
    "### 13. Восстановительная стоимость\n",
    "\n",
    "$$Ф_{оi}^{\\ в} = Ф_{оi}^{\\ б} \\cdot K_{пер}$$\n",
    "\n",
    "где $K_{пер}$ — коэффициент пересчета балансовой стоимости в восстановительную."
   ]
  },
  {
   "cell_type": "code",
   "execution_count": null,
   "metadata": {},
   "outputs": [],
   "source": [
    "replacement_cost = book_cost * table1_cfs['коэффициент пересчета']['Рабочие машины и оборудование']\n",
    "f'{np.round(replacement_cost, 3)} тыс.руб.'"
   ]
  },
  {
   "cell_type": "markdown",
   "metadata": {},
   "source": [
    "### 14. Годовая сумма амортизационных отчислений\n",
    "\n",
    "$$A_г = \\frac{Ф_{оi}^{\\ б} \\cdot a}{100}$$"
   ]
  },
  {
   "cell_type": "code",
   "execution_count": null,
   "metadata": {},
   "outputs": [],
   "source": [
    "annual_depreciation = book_cost * table1_cfs['нормы амортизац. отчислений, %']['Рабочие машины и оборудование'] / 100\n",
    "f'{np.round(annual_depreciation, 3)} тыс.руб.'"
   ]
  },
  {
   "cell_type": "markdown",
   "metadata": {},
   "source": [
    "### 15. Остаточная стоимость\n",
    "\n",
    "$$Ф_{оi}^{\\ о} = Ф_{оi}^{\\ б} - A_г \\cdot Т_ф$$"
   ]
  },
  {
   "cell_type": "code",
   "execution_count": null,
   "metadata": {},
   "outputs": [],
   "source": [
    "residual_value = book_cost - annual_depreciation * table1['Тф']['Рабочие машины и оборудование']\n",
    "f'{np.round(residual_value, 3)} тыс.руб.'"
   ]
  },
  {
   "cell_type": "markdown",
   "metadata": {},
   "source": [
    "## Расчет показателей использования основных фондов\n",
    "\n",
    "### 16. Фондоотдача\n",
    "\n",
    "$$f_о = \\frac{Q_в}{\\overline{Ф}_о}$$\n",
    "\n",
    "где:\n",
    "\n",
    "* $Q_в$ — стоимость валовой продукции,\n",
    "* $\\overline{Ф}_о$ — среднегодовая стоимость ОФ."
   ]
  },
  {
   "cell_type": "markdown",
   "metadata": {},
   "source": [
    "### 17. Фондовооруженность\n",
    "\n",
    "$$f_в = \\frac{\\overline{Ф}_о}{\\overline{Ч}_{пр}}$$\n",
    "\n",
    "где $\\overline{Ч}_{пр}$ — среднегодовая численность производственных рабочих."
   ]
  },
  {
   "cell_type": "markdown",
   "metadata": {},
   "source": [
    "### 18. Индекс изменения показателя\n",
    "\n",
    "$$J_{f_о} = \\frac{f_о^о}{f_о^n},\\ J_{f_d} = \\frac{f_в^о}{f_в^в}$$\n",
    "\n",
    "где:\n",
    "\n",
    "* $f_о^о,\\ f_в^о$ — показатели фондоотдачи и фондовооруженности в отчетном периоде,\n",
    "* $f_о^n,\\ f_в^n$ — в плановом периоде."
   ]
  },
  {
   "cell_type": "markdown",
   "metadata": {},
   "source": [
    "### 19. Индекс изменения производительности труда\n",
    "\n",
    "$$J_{nm} = J_{f_о} \\cdot J_{f_в}$$"
   ]
  },
  {
   "cell_type": "markdown",
   "metadata": {},
   "source": [
    "### 20. Коэффициент экстенсивного использования оборудования\n",
    "\n",
    "$$K_э = \\frac{Ф_ф}{Ф_э}$$\n",
    "\n",
    "где:\n",
    "\n",
    "* $Ф_э$ — эффективный фонд времени работы установленного оборудования за месяц, станко-час,\n",
    "* $Ф_ф$ — фактически отработано оборудованием за месяц, станко-час."
   ]
  },
  {
   "cell_type": "markdown",
   "metadata": {},
   "source": [
    "### 21. Эффективный фонд времени единицы работы оборудования за месяц\n",
    "\n",
    "$$Ф_э = Д \\cdot С \\cdot f \\cdot (1 - \\frac{П_р}{100}) \\cdot n$$\n",
    "\n",
    "где:\n",
    "\n",
    "* $Д$ — число рабочих дней в месяце (22 дня),\n",
    "* $С$ — сменность (2 смены),\n",
    "* $f$ — продолжительность рабочей смены (8 часов),\n",
    "* $П_р$ — затраты времени на планово-предупредительные работы (3%),\n",
    "* $n$ — число единиц оборудования."
   ]
  },
  {
   "cell_type": "markdown",
   "metadata": {},
   "source": [
    "### 22. Коэффициент интенсивного использования оборудования\n",
    "\n",
    "$$K_u = \\frac{В_ф}{В_n},\\ В_n = П_ч \\cdot f \\cdot n$$\n",
    "\n",
    "где:\n",
    "\n",
    "* $В_ф$ — фактическая производительность за смену, штук,\n",
    "* $В_n$ — плановая производительность за смену, штук,\n",
    "* $П_ч$ — часовая производительность единицы оборудования."
   ]
  },
  {
   "cell_type": "markdown",
   "metadata": {},
   "source": [
    "### 23. Коэффициент интегрального использования\n",
    "\n",
    "$$K_{un} = K_э \\cdot К_u$$"
   ]
  },
  {
   "cell_type": "markdown",
   "metadata": {},
   "source": [
    "### 24. Коэффициент сменности\n",
    "\n",
    "$$K_{см} = \\frac{Ф_ф}{Ф'_э},\\ Ф'_э = Д \\cdot f \\cdot n$$\n",
    "\n",
    "где $Ф'_э$ — максимальное число станко-часов, которые может быть отработано при односменной работе."
   ]
  }
 ],
 "metadata": {
  "kernelspec": {
   "display_name": "Python 3",
   "language": "python",
   "name": "python3"
  },
  "language_info": {
   "codemirror_mode": {
    "name": "ipython",
    "version": 3
   },
   "file_extension": ".py",
   "mimetype": "text/x-python",
   "name": "python",
   "nbconvert_exporter": "python",
   "pygments_lexer": "ipython3",
   "version": "3.7.2"
  }
 },
 "nbformat": 4,
 "nbformat_minor": 2
}
