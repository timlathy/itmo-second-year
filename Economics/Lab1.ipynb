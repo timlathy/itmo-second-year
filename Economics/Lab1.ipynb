{
 "cells": [
  {
   "cell_type": "markdown",
   "metadata": {},
   "source": [
    "# Оценка использования основных фондов (ОФ) предприятия\n",
    "\n",
    "## Исходные данные (вариант 10)\n",
    "\n",
    "### Таблица 1\n",
    "\n",
    "* Среднегодовая балансовая стоимость ОПФ (Фо): тыс. у.д.е.\n",
    "* Средние фактические сроки службы ОПФ (Тф): лет         "
   ]
  },
  {
   "cell_type": "code",
   "execution_count": null,
   "metadata": {},
   "outputs": [],
   "source": [
    "import pandas as pd\n",
    "\n",
    "table1 = pd.DataFrame(data={\n",
    "    'Фо': [19450, 1633, 945, 1084, 31200, 1740, 2232, 1212, 1016, 470],\n",
    "    'Тф': [28, 16, 11, 12, 6, 5, 4, 6, 3, 8]\n",
    "}, index=[\n",
    "    'Здания',\n",
    "    'Сооружения',\n",
    "    'Передаточные устройства',\n",
    "    'Силовые машины и оборудование',\n",
    "    'Рабочие  машины и оборудование',\n",
    "    'Измерительные и регулирующие приборы и устройства, лабораторн. обор-е',\n",
    "    'Вычислительная техника',\n",
    "    'Транспортные средства',\n",
    "    'Инструмент',\n",
    "    'Производственный и хозяйств. инвентарь и принадлежности'\n",
    "])\n",
    "table1.append(table1.select_dtypes(pd.np.number).sum().rename('ВСЕГО ОПФ'))"
   ]
  },
  {
   "cell_type": "code",
   "execution_count": null,
   "metadata": {},
   "outputs": [],
   "source": [
    "table2 = pd.DataFrame(data={'Показатели': [17.4, 1994, 4, 12]}, index=[\n",
    "    'Оптовая цена станка, тыс.руб.',\n",
    "    'Год приобретения',\n",
    "    'Транспортные расходы, % от оптовой цены',\n",
    "    'Затраты на монтаж и отладку, % от оптовой цены'\n",
    "])\n",
    "# table2['Показатели']['Оптовая цена станка, тыс.руб.']\n",
    "table2"
   ]
  },
  {
   "cell_type": "code",
   "execution_count": null,
   "metadata": {},
   "outputs": [],
   "source": [
    "table3 = pd.DataFrame(data={'Показатели': [48, 12, 'август', 7, 'июль']}, index=[\n",
    "    'Стоимость ОПФ на 1 января текущего года, тыс. у.д.е.',\n",
    "    'Введено ОПФ в текущем году, тыс. у.д.е.',\n",
    "    'Дата ввода',\n",
    "    'Выбыло ОПФ в текущем году, тыс. у.д.е.',\n",
    "    'Дата выбытия'\n",
    "])\n",
    "table3"
   ]
  },
  {
   "cell_type": "code",
   "execution_count": null,
   "metadata": {},
   "outputs": [],
   "source": [
    "table4 = pd.DataFrame(data={\n",
    "    'План': [132, 55, 24],\n",
    "    'Отчет': [133.1, 52.2, 26]\n",
    "}, index=[\n",
    "    'Валовая продукция, тыс. у.д.е.',\n",
    "    'Среднегодовая стоимость основных производственных фондов, тыс. у.д.е.',\n",
    "    'Среднегодовая численность производственных рабочих, чел.',\n",
    "])\n",
    "table4"
   ]
  },
  {
   "cell_type": "code",
   "execution_count": null,
   "metadata": {},
   "outputs": [],
   "source": [
    "table5 = pd.DataFrame(data={'Показатели': [25, 10, 1520, 7568]}, index=[\n",
    "    'Количество станков в цехе',\n",
    "    'Средняя часовая производительность одного станка, шт.',\n",
    "    'Фактический выпуск изделий за смену, шт.',\n",
    "    'Фактически отработано за месяц, станко-часов'\n",
    "])\n",
    "table5"
   ]
  },
  {
   "cell_type": "markdown",
   "metadata": {},
   "source": [
    "## Определение структуры и состава основных фондов\n",
    "\n",
    "### 1. Удельный вес $d$ отдельных групп ОФ в общей их стоимости\n",
    "\n",
    "$$d = \\frac{\\overline{Ф}_{oi}}{\\sum^n_{i=1} \\overline{Ф}_{oi}}$$\n",
    "\n",
    "где $\\overline{Ф}_{oi}$ — среднегодовая стоимость $i$-й группы ОФ, $n$ — число групп."
   ]
  },
  {
   "cell_type": "code",
   "execution_count": null,
   "metadata": {},
   "outputs": [],
   "source": [
    "pd.DataFrame(table1['Фо'].apply(lambda fi: fi / table1['Фо'].sum()).rename('Удельный вес $d$'))"
   ]
  },
  {
   "cell_type": "markdown",
   "metadata": {},
   "source": [
    "### 2. Удельный вес активной части в общей стоимости ОФ\n",
    "\n",
    "$$d_a = \\frac{\\sum^m_{i=1} \\overline{Ф}_{oa}}{\\sum^n_{i=1} \\overline{Ф}_{oi}}$$\n",
    "\n",
    "где $\\overline{Ф}_{oi}$ — среднегодовая стоимость $i$-й группы активной части ОФ, $m$ — число групп в составе активной части ОФ (машины и оборудование, инструмент и др.)"
   ]
  },
  {
   "cell_type": "code",
   "execution_count": null,
   "metadata": {},
   "outputs": [],
   "source": [
    "import numpy as np\n",
    "\n",
    "np.round(table1['Фо'][2:].sum() / table1['Фо'].sum(), 4)"
   ]
  },
  {
   "cell_type": "markdown",
   "metadata": {},
   "source": [
    "### 3. Удельный вес отдельных возрастных групп\n",
    "\n",
    "$$d_j = \\frac{\\sum^k_{i=1} \\overline{Ф}_{oi}}{\\sum^n_{i=1} \\overline{Ф}_{oi}}$$\n",
    "\n",
    "где $k$ — число групп в составе $j$-й возрастной группы"
   ]
  },
  {
   "cell_type": "code",
   "execution_count": null,
   "metadata": {},
   "outputs": [],
   "source": [
    "pd.DataFrame(data={'Удельный вес': [\n",
    "    (table1['Фо'][5] + table1['Фо'][7] + table1['Фо'][8]) / table1['Фо'].sum(),\n",
    "    (table1['Фо'][2] + table1['Фо'][4] + table1['Фо'][6] + table1['Фо'][9]) / table1['Фо'].sum(),\n",
    "    (table1['Фо'][1] + table1['Фо'][3]) / table1['Фо'].sum(),\n",
    "    table1['Фо'][0] / table1['Фо'].sum()\n",
    "]}, index=[\n",
    "    'до 5 лет', '5-10 лет', '10-20 лет', 'свыше 20 лет'\n",
    "])"
   ]
  }
 ],
 "metadata": {
  "kernelspec": {
   "display_name": "Python 3",
   "language": "python",
   "name": "python3"
  },
  "language_info": {
   "codemirror_mode": {
    "name": "ipython",
    "version": 3
   },
   "file_extension": ".py",
   "mimetype": "text/x-python",
   "name": "python",
   "nbconvert_exporter": "python",
   "pygments_lexer": "ipython3",
   "version": "3.7.2"
  }
 },
 "nbformat": 4,
 "nbformat_minor": 2
}
