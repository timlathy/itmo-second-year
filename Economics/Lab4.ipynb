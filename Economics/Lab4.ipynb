{
 "cells": [
  {
   "cell_type": "markdown",
   "metadata": {},
   "source": [
    "# Определение критического объема выпуска продукции\n",
    "\n",
    "## Цель работы\n",
    "\n",
    "Расчет критического объема производства продукции и определение целевой прибыли за счет его реализации.\n",
    "\n",
    "## Исходные данные (вариант 10)"
   ]
  },
  {
   "cell_type": "code",
   "execution_count": null,
   "metadata": {},
   "outputs": [],
   "source": [
    "import pandas as pd\n",
    "\n",
    "data_table = pd.DataFrame(data={\n",
    "    'Единица измерения': ['у.д.е./ шт.', '% (от ст.осн.м.)', '% (от ст.осн.м.)', 'у.д.е./шт.', 'тыс. у.д.е.', 'у.д.е./шт.', 'тыс. у.д.е.', 'у.д.е./шт.', 'тыс. у.д.е.', 'тыс. у.д.е.', 'у.д.е./шт.', 'тыс. шт.'],\n",
    "    'Показатель': [8.5, 6, 10, 6, 150, 7, 45, 3.2, 14, 16, 0.7, 7]\n",
    "}, index=[\n",
    "    'Стоимость основных материалов',\n",
    "    'Затраты на вспомогательные материалы',\n",
    "    'Затраты на топливо и энергию (на технологические нужды)',\n",
    "    'Основная заработная плата производственных рабочих',\n",
    "    'Цеховые расходы, всего',\n",
    "    '- в т.ч. затраты на упаковку',\n",
    "    'Общефирменные затраты на рекламу и сбыт',\n",
    "    '- в т.ч. торговые издержки на зарплату торговых работников',\n",
    "    'Общефирменные управленческие и пр. расходы',\n",
    "    'Общефирменные транспортные расходы',\n",
    "    '- в т.ч. затраты на доставку до потребителя и установку изделия',\n",
    "    'Планируемый объем продаж'\n",
    "])\n",
    "data = data_table['Показатель']\n",
    "data_table"
   ]
  },
  {
   "cell_type": "markdown",
   "metadata": {},
   "source": [
    "## Структура затрат предприятия\n",
    "\n",
    "### Переменные затраты\n",
    "\n",
    "#### Прямые"
   ]
  },
  {
   "cell_type": "code",
   "execution_count": null,
   "metadata": {},
   "outputs": [],
   "source": [
    "direct_costs = pd.DataFrame(data={\n",
    "    'На единицу, у.д.е.': [\n",
    "        data['Стоимость основных материалов'],\n",
    "        data['Стоимость основных материалов'] * data['Затраты на вспомогательные материалы'],\n",
    "        data['Стоимость основных материалов'] * data['Затраты на топливо и энергию (на технологические нужды)'],\n",
    "        data['Стоимость основных материалов'] * data['Основная заработная плата производственных рабочих']\n",
    "    ]\n",
    "}, index=[\n",
    "    'Стоимость основных материалов',\n",
    "    'Затраты на вспомогательные материалы',\n",
    "    'Затраты на топливо и энергию (на технологические нужды)',\n",
    "    'Основная заработная плата производственных рабочих'\n",
    "])\n",
    "direct_costs['На объем выпуска (тыс), у.д.е.'] = direct_costs['На единицу, у.д.е.'] * data['Планируемый объем продаж']\n",
    "direct_costs"
   ]
  },
  {
   "cell_type": "markdown",
   "metadata": {},
   "source": [
    "#### Накладные"
   ]
  },
  {
   "cell_type": "code",
   "execution_count": null,
   "metadata": {},
   "outputs": [],
   "source": [
    "indirect_costs = pd.DataFrame(data={\n",
    "    'На единицу, у.д.е.': [\n",
    "        data['- в т.ч. затраты на упаковку'],\n",
    "        data['- в т.ч. торговые издержки на зарплату торговых работников'],\n",
    "        data['- в т.ч. затраты на доставку до потребителя и установку изделия']\n",
    "    ]\n",
    "}, index=[\n",
    "    'Затраты на упаковку',\n",
    "    'Торговые издержки на зарплату торговых работников',\n",
    "    'Затраты на доставку до потребителя и установку изделия'\n",
    "])\n",
    "indirect_costs['На объем выпуска (тыс), у.д.е.'] = indirect_costs['На единицу, у.д.е.'] * data['Планируемый объем продаж']\n",
    "indirect_costs"
   ]
  },
  {
   "cell_type": "code",
   "execution_count": null,
   "metadata": {},
   "outputs": [],
   "source": [
    "var_costs_per_item = direct_costs['На единицу, у.д.е.'].sum() + indirect_costs['На единицу, у.д.е.'].sum()\n",
    "var_costs = direct_costs['На объем выпуска (тыс), у.д.е.'].sum() + indirect_costs['На объем выпуска (тыс), у.д.е.'].sum()\n",
    "f'Итого переменных затрат: {var_costs_per_item} у.д.е. на единицу, {var_costs} у.д.е. на объем выпуска (тыс)'"
   ]
  },
  {
   "cell_type": "markdown",
   "metadata": {},
   "source": [
    "### Постоянные затраты"
   ]
  },
  {
   "cell_type": "code",
   "execution_count": null,
   "metadata": {},
   "outputs": [],
   "source": [
    "fixed_costs = pd.DataFrame(data={\n",
    "    'Показатель, у.д.е.': [\n",
    "        data['Цеховые расходы, всего'] * 1000,\n",
    "        data['Общефирменные затраты на рекламу и сбыт'] * 1000,\n",
    "        data['Общефирменные управленческие и пр. расходы'] * 1000,\n",
    "        data['Общефирменные транспортные расходы'] * 1000\n",
    "    ]\n",
    "}, index=[\n",
    "    'Цеховые расходы, всего',\n",
    "    'Затраты на рекламу и сбыт',\n",
    "    'Управленческие и прочие расходы',\n",
    "    'Транспортные расходы'\n",
    "])\n",
    "fixed_costs"
   ]
  },
  {
   "cell_type": "code",
   "execution_count": null,
   "metadata": {},
   "outputs": [],
   "source": [
    "total_fixed_costs = fixed_costs['Показатель, у.д.е.'].sum()\n",
    "f'Итого постоянных затрат: {total_fixed_costs} у.д.е.'"
   ]
  },
  {
   "cell_type": "code",
   "execution_count": null,
   "metadata": {},
   "outputs": [],
   "source": [
    "total_costs_per_item = var_costs_per_item + total_fixed_costs\n",
    "total_costs = var_costs + total_fixed_costs\n",
    "f'Всего валовых затрат: {total_costs_per_item} у.д.е. на единицу, {total_costs} у.д.е. на объем выпуска (тыс)'"
   ]
  },
  {
   "cell_type": "markdown",
   "metadata": {},
   "source": [
    "## Критический объем выпуска продукции\n",
    "\n",
    "### Cебестоимость единицы продукции\n",
    "\n",
    "$$S_{ед} = V_{ед} + \\frac{F}{N}$$\n",
    "\n",
    "где:\n",
    "* $V_{ед}$ — переменные затраты на единицу товара\n",
    "* $F$ — постоянные затраты\n",
    "* $N$ — объем продаж"
   ]
  },
  {
   "cell_type": "code",
   "execution_count": null,
   "metadata": {},
   "outputs": [],
   "source": [
    "import numpy as np\n",
    "cost_per_unit = var_costs_per_item + total_fixed_costs / (data['Планируемый объем продаж'] * 1000)\n",
    "f'Себестоимость единицы продукции: {np.round(cost_per_unit, 2)} у.е.д.'"
   ]
  },
  {
   "cell_type": "markdown",
   "metadata": {},
   "source": [
    "### Цена единицы продукции\n",
    "\n",
    "$$Ц_{ед} = S_{ед} \\cdot 1.25$$\n",
    "\n",
    "(при нормальном уровне рентабельности продукции 25%)"
   ]
  },
  {
   "cell_type": "code",
   "execution_count": null,
   "metadata": {},
   "outputs": [],
   "source": [
    "price_per_unit = cost_per_unit * 1.25\n",
    "f'Цена единицы продукции: {np.round(price_per_unit, 2)} у.е.д.'"
   ]
  },
  {
   "cell_type": "markdown",
   "metadata": {},
   "source": [
    "### Критический объем\n",
    "\n",
    "Состояние безубыточности характеризуется уравнением:\n",
    "\n",
    "$$Ц_{ед} \\cdot N_{кр} = V_{ед} \\cdot N_{кр} + F$$\n",
    "\n",
    "Следовательно, критический объем составляет:\n",
    "\n",
    "$$N_{кр} = \\frac{F}{Ц_{ед} - V_{ед}}$$"
   ]
  },
  {
   "cell_type": "code",
   "execution_count": null,
   "metadata": {},
   "outputs": [],
   "source": [
    "critical_volume = total_fixed_costs / (price_per_unit - var_costs_per_item)\n",
    "f'Критический объем: {np.round(critical_volume, 2)}'"
   ]
  },
  {
   "cell_type": "markdown",
   "metadata": {},
   "source": [
    "## График показателей"
   ]
  },
  {
   "cell_type": "code",
   "execution_count": null,
   "metadata": {},
   "outputs": [],
   "source": [
    "%matplotlib inline\n",
    "\n",
    "import matplotlib.pyplot as plt\n",
    "\n",
    "critical_vol = critical_volume\n",
    "planned_vol = data['Планируемый объем продаж'] * 1000\n",
    "\n",
    "x = np.arange(500, planned_vol * 1.2, step=100)\n",
    "direct_plt = direct_costs['На единицу, у.д.е.'].sum() * x\n",
    "indirect_plt = indirect_costs['На единицу, у.д.е.'].sum() * x\n",
    "sum_plt = (direct_costs['На единицу, у.д.е.'].sum() + indirect_costs['На единицу, у.д.е.'].sum()) * x + total_costs\n",
    "earnings_plt = price_per_unit * x\n",
    "\n",
    "plt.figure(figsize=(14,8))\n",
    "plt.hlines(y=100, xmin=-4, xmax=3, linewidth=1, linestyles='dashed')\n",
    "plt.plot(x, direct_plt, label='Переменные прямые затраты')\n",
    "plt.plot(x, indirect_plt, label='Переменные накладные затраты')\n",
    "plt.plot(x, x * 0 + total_costs, label='Постоянные затраты')\n",
    "plt.plot(x, sum_plt, label='Суммарные затраты')\n",
    "plt.plot(x, earnings_plt, label='Выручка')\n",
    "plt.axvline(x=critical_vol, color='0.6', linestyle='-.', label='Критический объем')\n",
    "plt.axvline(x=planned_vol, color='0.6', linestyle='--', label='Планируемый объем продаж')\n",
    "\n",
    "plt.legend()\n",
    "plt.grid()\n",
    "plt.show()"
   ]
  },
  {
   "cell_type": "markdown",
   "metadata": {},
   "source": [
    "## Вывод\n",
    "\n",
    "В ходе выполнения работы был рассчитан критический объем производства продукции — объем, при котором суммарная выручка покрывает все производственно-сбытовые расходы при нулевой рентабельности — а также определена целевая прибыль за счет ее реализации.\n",
    "\n",
    "График, на котором отложен объем производства по горизонтали и затраты (выручка) по вертикали, наглядно иллюстрирует критический объем: ему соответствует пересечение суммарных затрат с выручкой. В дополнение к этому был отмечен планируемый объем продаж."
   ]
  }
 ],
 "metadata": {
  "kernelspec": {
   "display_name": "Python 3",
   "language": "python",
   "name": "python3"
  },
  "language_info": {
   "codemirror_mode": {
    "name": "ipython",
    "version": 3
   },
   "file_extension": ".py",
   "mimetype": "text/x-python",
   "name": "python",
   "nbconvert_exporter": "python",
   "pygments_lexer": "ipython3",
   "version": "3.7.3"
  }
 },
 "nbformat": 4,
 "nbformat_minor": 2
}
