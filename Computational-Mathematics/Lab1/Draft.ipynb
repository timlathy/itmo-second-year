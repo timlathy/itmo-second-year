{
 "cells": [
  {
   "cell_type": "markdown",
   "metadata": {},
   "source": [
    "# Численные методы решения нелинейных уравнений\n",
    "\n",
    "Численные методы приближенны, имеют определенную погрешность. В лабораторной работе — многочлены третьей степени (три корня).\n",
    "\n",
    "Если на интервале $[a; b]$, где $f(a)$ и $f(b)$ имеют разные знаки, функция непрерывна и монотонна, то на этом интервале есть корень, причем один. Такой интервал называется _интервалом изоляции корня_.\n",
    "\n",
    "Перед выполнением работы строится график функции, отделяются интервалы изоляции корня.\n",
    "\n",
    "Один из методов — _метод половинного деления_. Предположим, что найден интервал $[a; b]$, на концах которого функция имеет разные знаки. В цикле интервал изоляции корня делится пополам, в точке $x_0 = a + b / 2$ рассчитывается знак, выбирается интервал $[a; x_0]$ или $[x_0; b]$ (тот, на концах которого функция имеет разные знаки). Критерий выхода из итерационного цикла: длина полученного интервала меньше или равна погрешности __(?)__ или значение функции в одном из $x_n$ соизмеримо с погрешностью ($f(x_n) \\approx 0$).\n",
    "\n",
    "Ответ необходимо сверить с ответом, полученным математическим пакетом.\n",
    "\n",
    "## Требования к программе\n",
    "\n",
    "Входные данные: границы интервала ($a$ и $b$), погрешность. Должна осуществляться проверка (на концах интервала функция имеет разные знаки, произведение значений на концах < 0).\n",
    "\n",
    "Выходные данные: корень, значение функции в корне (не должно не превышать погрешность), число итераций."
   ]
  },
  {
   "cell_type": "markdown",
   "metadata": {},
   "source": [
    "## График функции\n",
    "\n",
    "$x^3 + 2.28x^2 - 1.934x + 3.907$"
   ]
  },
  {
   "cell_type": "code",
   "execution_count": 6,
   "metadata": {},
   "outputs": [
    {
     "data": {
      "image/png": "[encoded data removed]",
      "text/plain": [
       "<Figure size 864x432 with 1 Axes>"
      ]
     },
     "metadata": {
      "needs_background": "light"
     },
     "output_type": "display_data"
    }
   ],
   "source": [
    "%matplotlib inline\n",
    "\n",
    "import numpy as np\n",
    "import matplotlib.pyplot as plt\n",
    "\n",
    "def f(x):\n",
    "  return (x**3) + (2.28 * x**2) - (1.934 * x) + 3.907\n",
    "\n",
    "x = np.arange(-6, 6, step=0.001)\n",
    "y = f(x)\n",
    "plt.figure(figsize=(12,6))\n",
    "plt.plot(x, y)\n",
    "plt.grid()\n",
    "plt.show()"
   ]
  },
  {
   "cell_type": "code",
   "execution_count": 2,
   "metadata": {},
   "outputs": [],
   "source": [
    "def divide_interval(a, b):\n",
    "  x_0 = (a + b) / 2\n",
    "  if f(a) * f(x_0) < 0: return (a, x_0)\n",
    "  else: return (x_0, b)\n",
    "  \n",
    "def interval_len(a, b):\n",
    "  return abs(a - b)\n",
    "\n",
    "def recurse(a, b, delta, iternum):\n",
    "  (new_a, new_b) = divide_interval(a, b)\n",
    "  if interval_len(new_a, new_b) < delta:\n",
    "    x_between = (new_a + new_b) / 2\n",
    "    return (x_between, f(x_between), iternum)\n",
    "  elif abs(f(new_a)) - delta <= 0:\n",
    "    return (new_a, f(new_a), iternum)\n",
    "  elif abs(f(new_b)) - delta <= 0:\n",
    "    return (new_b, f(new_b), iternum)\n",
    "  else:\n",
    "    return recurse(new_a, new_b, delta, iternum + 1)"
   ]
  },
  {
   "cell_type": "markdown",
   "metadata": {},
   "source": [
    "# Interactive mode"
   ]
  },
  {
   "cell_type": "code",
   "execution_count": 3,
   "metadata": {},
   "outputs": [
    {
     "name": "stdout",
     "output_type": "stream",
     "text": [
      "Введите а:\n",
      "-5.6\n",
      "Введите b:\n",
      "9.2\n",
      "Введите погрешность:\n",
      "0.00000001\n",
      "Полученный x: -3.246436, значение функции: -0.000000, число итераций: 31\n"
     ]
    }
   ],
   "source": [
    "print('Введите а:')\n",
    "a = float(input())\n",
    "print('Введите b:')\n",
    "b = float(input())\n",
    "print('Введите погрешность:')\n",
    "delta = abs(float(input()))\n",
    "\n",
    "if f(a) * f(b) < 0:\n",
    "  (x, f_x, iternum) = recurse(a, b, delta, 1)\n",
    "  print(f'Полученный x: {x:6f}, значение функции: {f_x:6f}, число итераций: {iternum}')\n",
    "else:\n",
    "  print(f'Ошибка: значения функции в концах интервала имеют одинаковый знак')"
   ]
  },
  {
   "cell_type": "markdown",
   "metadata": {},
   "source": [
    "# Benchmarks"
   ]
  },
  {
   "cell_type": "code",
   "execution_count": 4,
   "metadata": {},
   "outputs": [
    {
     "name": "stdout",
     "output_type": "stream",
     "text": [
      "Python version\n",
      "57.6 µs ± 1.53 µs per loop (mean ± std. dev. of 7 runs, 10000 loops each)\n",
      "C version\n",
      "790 ns ± 1.18 ns per loop (mean ± std. dev. of 7 runs, 1000000 loops each)\n"
     ]
    }
   ],
   "source": [
    "import _nonlineq\n",
    "\n",
    "a = -5.6\n",
    "b = 9.2\n",
    "delta = 0.00000001\n",
    "\n",
    "print('Python version')\n",
    "%timeit recurse(a, b, delta, 1)\n",
    "print('C version')\n",
    "%timeit _nonlineq.bisect_solve_interval(1, 2.28, -1.934, 3.907, a, b, delta)"
   ]
  },
  {
   "cell_type": "code",
   "execution_count": 5,
   "metadata": {},
   "outputs": [
    {
     "name": "stdout",
     "output_type": "stream",
     "text": [
      "950 ns ± 0.621 ns per loop (mean ± std. dev. of 7 runs, 1000000 loops each)\n",
      "354 ns ± 0.291 ns per loop (mean ± std. dev. of 7 runs, 1000000 loops each)\n"
     ]
    }
   ],
   "source": [
    "import _nonlineq\n",
    "\n",
    "a = -5.6\n",
    "b = 9.2\n",
    "delta = 0.00000000001\n",
    "\n",
    "%timeit _nonlineq.bisect_solve_interval(1, 2.28, -1.934, 3.907, a, b, delta)\n",
    "%timeit _nonlineq.newton_solve_interval(1, 2.28, -1.934, 3.907, a, b, delta)"
   ]
  }
 ],
 "metadata": {
  "kernelspec": {
   "display_name": "Python 3",
   "language": "python",
   "name": "python3"
  },
  "language_info": {
   "codemirror_mode": {
    "name": "ipython",
    "version": 3
   },
   "file_extension": ".py",
   "mimetype": "text/x-python",
   "name": "python",
   "nbconvert_exporter": "python",
   "pygments_lexer": "ipython3",
   "version": "3.6.6"
  }
 },
 "nbformat": 4,
 "nbformat_minor": 2
}
