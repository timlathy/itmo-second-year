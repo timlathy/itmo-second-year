{
 "cells": [
  {
   "cell_type": "markdown",
   "metadata": {},
   "source": [
    "# Численное решение нелинейных уравнений\n",
    "\n",
    "В лабораторной работе рассматриваются два метода численного решения — метод половинного деления и метод Ньютона — на примере уравнения третьей степени $x^3 + 2.28x^2 - 1.934x - 3.907 = 0$.\n",
    "\n",
    "Начнем с построения графика функции, что позволит нам определить интервалы изоляции корней:"
   ]
  },
  {
   "cell_type": "code",
   "execution_count": 1,
   "metadata": {},
   "outputs": [
    {
     "data": {
      "image/png": "[encoded data removed]",
      "text/plain": [
       "<Figure size 720x576 with 1 Axes>"
      ]
     },
     "metadata": {
      "needs_background": "light"
     },
     "output_type": "display_data"
    }
   ],
   "source": [
    "%matplotlib inline\n",
    "\n",
    "import numpy as np\n",
    "import matplotlib.pyplot as plt\n",
    "\n",
    "x = np.arange(-4, 3, step=0.001)\n",
    "y = (x**3) + (2.28 * x**2) + (-1.934 * x) - 3.907\n",
    "y_prime = (3 * x**2) + (4.56 * x) + (-1.934)\n",
    "y_prime_prime = (6 * x) + (4.56)\n",
    "\n",
    "plt.figure(figsize=(10,8))\n",
    "plt.hlines(y=0, xmin=-4, xmax=3, linewidth=1, linestyles='dashed')\n",
    "plt.plot(x, y, label=\"f(x)\")\n",
    "#plt.plot(x, y_prime)\n",
    "plt.plot(x, y_prime_prime, label=\"f(x)''\")\n",
    "plt.legend()\n",
    "plt.grid()\n",
    "plt.show()"
   ]
  },
  {
   "cell_type": "markdown",
   "metadata": {},
   "source": [
    "Уточним правый корень (в интервале $[0.5, 2.5]$) методом половинного деления с точностью $10^{-2}$:"
   ]
  },
  {
   "cell_type": "code",
   "execution_count": 2,
   "metadata": {},
   "outputs": [
    {
     "data": {
      "text/html": [
       "<div>\n",
       "<style scoped>\n",
       "    .dataframe tbody tr th:only-of-type {\n",
       "        vertical-align: middle;\n",
       "    }\n",
       "\n",
       "    .dataframe tbody tr th {\n",
       "        vertical-align: top;\n",
       "    }\n",
       "\n",
       "    .dataframe thead th {\n",
       "        text-align: right;\n",
       "    }\n",
       "</style>\n",
       "<table border=\"1\" class=\"dataframe\">\n",
       "  <thead>\n",
       "    <tr style=\"text-align: right;\">\n",
       "      <th></th>\n",
       "      <th>$a$</th>\n",
       "      <th>$b$</th>\n",
       "      <th>$x$</th>\n",
       "      <th>$f(a)$</th>\n",
       "      <th>$f(b)$</th>\n",
       "      <th>$f(x)$</th>\n",
       "      <th>$|a-b|$</th>\n",
       "    </tr>\n",
       "  </thead>\n",
       "  <tbody>\n",
       "    <tr>\n",
       "      <th>0</th>\n",
       "      <td>0.500</td>\n",
       "      <td>2.500</td>\n",
       "      <td>1.500</td>\n",
       "      <td>-4.179</td>\n",
       "      <td>1.697</td>\n",
       "      <td>1.697</td>\n",
       "      <td>2.000</td>\n",
       "    </tr>\n",
       "    <tr>\n",
       "      <th>1</th>\n",
       "      <td>0.500</td>\n",
       "      <td>1.500</td>\n",
       "      <td>1.000</td>\n",
       "      <td>-2.561</td>\n",
       "      <td>1.697</td>\n",
       "      <td>-2.561</td>\n",
       "      <td>1.000</td>\n",
       "    </tr>\n",
       "    <tr>\n",
       "      <th>2</th>\n",
       "      <td>1.000</td>\n",
       "      <td>1.500</td>\n",
       "      <td>1.250</td>\n",
       "      <td>-0.809</td>\n",
       "      <td>1.697</td>\n",
       "      <td>-0.809</td>\n",
       "      <td>0.500</td>\n",
       "    </tr>\n",
       "    <tr>\n",
       "      <th>3</th>\n",
       "      <td>1.250</td>\n",
       "      <td>1.500</td>\n",
       "      <td>1.375</td>\n",
       "      <td>-0.809</td>\n",
       "      <td>0.344</td>\n",
       "      <td>0.344</td>\n",
       "      <td>0.250</td>\n",
       "    </tr>\n",
       "    <tr>\n",
       "      <th>4</th>\n",
       "      <td>1.250</td>\n",
       "      <td>1.375</td>\n",
       "      <td>1.312</td>\n",
       "      <td>-0.257</td>\n",
       "      <td>0.344</td>\n",
       "      <td>-0.257</td>\n",
       "      <td>0.125</td>\n",
       "    </tr>\n",
       "    <tr>\n",
       "      <th>5</th>\n",
       "      <td>1.312</td>\n",
       "      <td>1.375</td>\n",
       "      <td>1.344</td>\n",
       "      <td>-0.257</td>\n",
       "      <td>0.037</td>\n",
       "      <td>0.037</td>\n",
       "      <td>0.062</td>\n",
       "    </tr>\n",
       "    <tr>\n",
       "      <th>6</th>\n",
       "      <td>1.312</td>\n",
       "      <td>1.344</td>\n",
       "      <td>1.328</td>\n",
       "      <td>-0.111</td>\n",
       "      <td>0.037</td>\n",
       "      <td>-0.111</td>\n",
       "      <td>0.031</td>\n",
       "    </tr>\n",
       "    <tr>\n",
       "      <th>7</th>\n",
       "      <td>1.328</td>\n",
       "      <td>1.344</td>\n",
       "      <td>1.336</td>\n",
       "      <td>-0.037</td>\n",
       "      <td>0.037</td>\n",
       "      <td>-0.037</td>\n",
       "      <td>0.016</td>\n",
       "    </tr>\n",
       "  </tbody>\n",
       "</table>\n",
       "</div>"
      ],
      "text/plain": [
       "     $a$    $b$    $x$  $f(a)$  $f(b)$  $f(x)$  $|a-b|$\n",
       "0  0.500  2.500  1.500  -4.179   1.697   1.697    2.000\n",
       "1  0.500  1.500  1.000  -2.561   1.697  -2.561    1.000\n",
       "2  1.000  1.500  1.250  -0.809   1.697  -0.809    0.500\n",
       "3  1.250  1.500  1.375  -0.809   0.344   0.344    0.250\n",
       "4  1.250  1.375  1.312  -0.257   0.344  -0.257    0.125\n",
       "5  1.312  1.375  1.344  -0.257   0.037   0.037    0.062\n",
       "6  1.312  1.344  1.328  -0.111   0.037  -0.111    0.031\n",
       "7  1.328  1.344  1.336  -0.037   0.037  -0.037    0.016"
      ]
     },
     "execution_count": 2,
     "metadata": {},
     "output_type": "execute_result"
    }
   ],
   "source": [
    "import pandas as pd\n",
    "from _nonlineq import bisect_solve_interval_log\n",
    "\n",
    "k0, k1, k2, k3 = 1, 2.28, -1.934, -3.907\n",
    "interval_start, interval_end = 0.5, 2.5\n",
    "delta = 10**-2\n",
    "\n",
    "iterations = bisect_solve_interval_log(k0, k1, k2, k3, interval_start, interval_end, delta) \n",
    "pd.DataFrame(iterations, columns=[\"$a$\", \"$b$\", \"$x$\", \"$f(a)$\", \"$f(b)$\", \"$f(x)$\", \"$|a-b|$\"]).round(3)"
   ]
  },
  {
   "cell_type": "markdown",
   "metadata": {},
   "source": [
    "Уточним левый корень (в интервале $[-4, -2]$) методом Ньютона с точностью $10^{-2}$:"
   ]
  },
  {
   "cell_type": "code",
   "execution_count": 3,
   "metadata": {},
   "outputs": [
    {
     "data": {
      "text/html": [
       "<div>\n",
       "<style scoped>\n",
       "    .dataframe tbody tr th:only-of-type {\n",
       "        vertical-align: middle;\n",
       "    }\n",
       "\n",
       "    .dataframe tbody tr th {\n",
       "        vertical-align: top;\n",
       "    }\n",
       "\n",
       "    .dataframe thead th {\n",
       "        text-align: right;\n",
       "    }\n",
       "</style>\n",
       "<table border=\"1\" class=\"dataframe\">\n",
       "  <thead>\n",
       "    <tr style=\"text-align: right;\">\n",
       "      <th></th>\n",
       "      <th>$x_k$</th>\n",
       "      <th>$f(x_k)$</th>\n",
       "      <th>$f'(x_k)$</th>\n",
       "      <th>$x_{k+1}$</th>\n",
       "      <th>$|x_k - x_{k + 1}|$</th>\n",
       "    </tr>\n",
       "  </thead>\n",
       "  <tbody>\n",
       "    <tr>\n",
       "      <th>0</th>\n",
       "      <td>-4.000</td>\n",
       "      <td>-23.691</td>\n",
       "      <td>27.826</td>\n",
       "      <td>-3.149</td>\n",
       "      <td>0.851</td>\n",
       "    </tr>\n",
       "    <tr>\n",
       "      <th>1</th>\n",
       "      <td>-3.149</td>\n",
       "      <td>-6.429</td>\n",
       "      <td>13.449</td>\n",
       "      <td>-2.671</td>\n",
       "      <td>0.478</td>\n",
       "    </tr>\n",
       "    <tr>\n",
       "      <th>2</th>\n",
       "      <td>-2.671</td>\n",
       "      <td>-1.528</td>\n",
       "      <td>7.285</td>\n",
       "      <td>-2.461</td>\n",
       "      <td>0.210</td>\n",
       "    </tr>\n",
       "    <tr>\n",
       "      <th>3</th>\n",
       "      <td>-2.461</td>\n",
       "      <td>-0.243</td>\n",
       "      <td>5.012</td>\n",
       "      <td>-2.412</td>\n",
       "      <td>0.048</td>\n",
       "    </tr>\n",
       "    <tr>\n",
       "      <th>4</th>\n",
       "      <td>-2.412</td>\n",
       "      <td>-0.012</td>\n",
       "      <td>4.524</td>\n",
       "      <td>-2.410</td>\n",
       "      <td>0.003</td>\n",
       "    </tr>\n",
       "  </tbody>\n",
       "</table>\n",
       "</div>"
      ],
      "text/plain": [
       "   $x_k$  $f(x_k)$  $f'(x_k)$  $x_{k+1}$  $|x_k - x_{k + 1}|$\n",
       "0 -4.000   -23.691     27.826     -3.149                0.851\n",
       "1 -3.149    -6.429     13.449     -2.671                0.478\n",
       "2 -2.671    -1.528      7.285     -2.461                0.210\n",
       "3 -2.461    -0.243      5.012     -2.412                0.048\n",
       "4 -2.412    -0.012      4.524     -2.410                0.003"
      ]
     },
     "execution_count": 3,
     "metadata": {},
     "output_type": "execute_result"
    }
   ],
   "source": [
    "from _nonlineq import newton_solve_interval_log\n",
    "\n",
    "k0, k1, k2, k3 = 1, 2.28, -1.934, -3.907\n",
    "interval_start, interval_end = -4, -2\n",
    "delta = 10**-2\n",
    "\n",
    "iterations = newton_solve_interval_log(k0, k1, k2, k3, interval_start, interval_end, delta) \n",
    "pd.DataFrame(iterations, columns=[\"$x_k$\", \"$f(x_k)$\", \"$f'(x_k)$\", \"$x_{k+1}$\", \"$|x_k - x_{k + 1}|$\"]).round(3)"
   ]
  },
  {
   "cell_type": "markdown",
   "metadata": {},
   "source": [
    "# Пользовательский интерфейс"
   ]
  },
  {
   "cell_type": "code",
   "execution_count": 4,
   "metadata": {},
   "outputs": [
    {
     "data": {
      "application/vnd.jupyter.widget-view+json": {
       "model_id": "85f7bea5ee6f4c10bbc5122882beb070",
       "version_major": 2,
       "version_minor": 0
      },
      "text/plain": [
       "interactive(children=(RadioButtons(description='Режим:', options=('чтение из файла', 'интерактивный ввод'), va…"
      ]
     },
     "metadata": {},
     "output_type": "display_data"
    }
   ],
   "source": [
    "from interface import run\n",
    "   \n",
    "run()"
   ]
  },
  {
   "cell_type": "markdown",
   "metadata": {},
   "source": [
    "# Сравнение скорости"
   ]
  },
  {
   "cell_type": "code",
   "execution_count": 5,
   "metadata": {},
   "outputs": [],
   "source": [
    "from _nonlineq import bisect_solve_interval, newton_solve_interval\n",
    "\n",
    "#%timeit bisect_solve_interval(1, 2.28, -1.934, -3.907, -4, -1.8, 0.0000001)\n",
    "#%timeit newton_solve_interval(1, 2.28, -1.934, -3.907, -4, -1.8, 0.0000001)"
   ]
  }
 ],
 "metadata": {
  "kernelspec": {
   "display_name": "Python 3",
   "language": "python",
   "name": "python3"
  },
  "language_info": {
   "codemirror_mode": {
    "name": "ipython",
    "version": 3
   },
   "file_extension": ".py",
   "mimetype": "text/x-python",
   "name": "python",
   "nbconvert_exporter": "python",
   "pygments_lexer": "ipython3",
   "version": "3.6.6"
  }
 },
 "nbformat": 4,
 "nbformat_minor": 2
}
