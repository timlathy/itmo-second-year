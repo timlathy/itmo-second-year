{
 "cells": [
  {
   "cell_type": "markdown",
   "metadata": {},
   "source": [
    "# Численное интегрирование\n",
    "\n"
   ]
  },
  {
   "cell_type": "markdown",
   "metadata": {},
   "source": [
    "## Метод прямоугольников\n",
    "\n",
    "Сумма Римана: $$\\int_a^b f(x) dx \\approx \\sum_{i=1}^n f(x^*_i) \\Delta x_i,\\ \\Delta x_i = x_i - x_{i-1}$$\n",
    "\n",
    "\n",
    "### Метод левых прямоугольников (левая сумма)\n",
    "\n",
    "В качестве $x^*_i$ выбираются левые границы отрезков: $x^*_i = x_{i-1}$."
   ]
  },
  {
   "cell_type": "code",
   "execution_count": 1,
   "metadata": {},
   "outputs": [],
   "source": [
    "import numpy as np\n",
    "\n",
    "def left_riemann_sum(f, a, b, n):\n",
    "  def x(i): return a + i*((b - a) / n)\n",
    "\n",
    "  return sum(f(x(i-1)) * (x(i) - x(i-1)) for i in range(0, n + 1))"
   ]
  },
  {
   "cell_type": "markdown",
   "metadata": {},
   "source": [
    "### Метод правых прямоугольников (правая сумма)\n",
    "\n",
    "В качестве $x^*_i$ выбираются правые границы отрезков: $x^*_i = x_{i}$."
   ]
  },
  {
   "cell_type": "code",
   "execution_count": 2,
   "metadata": {},
   "outputs": [],
   "source": [
    "def right_riemann_sum(f, a, b, n):\n",
    "  def x(i): return a + i*((b - a) / n)\n",
    "\n",
    "  return sum(f(x(i)) * (x(i) - x(i-1)) for i in range(0, n + 1))"
   ]
  },
  {
   "cell_type": "markdown",
   "metadata": {},
   "source": [
    "## Точность расчетов"
   ]
  },
  {
   "cell_type": "code",
   "execution_count": 3,
   "metadata": {},
   "outputs": [],
   "source": [
    "def iterate_upto_precision(method, f, a, b, precision=10**-6):\n",
    "  n = 4\n",
    "  res_n, res2n = 0, 0\n",
    "  while True:\n",
    "    res_n = method(f, a, b, n)\n",
    "    res_2n = method(f, a, b, 2*n)\n",
    "    if abs(res_n - res_2n) > precision:\n",
    "      n *= 2\n",
    "    else:\n",
    "      return n, res_2n"
   ]
  },
  {
   "cell_type": "markdown",
   "metadata": {},
   "source": [
    "## Ввод формул"
   ]
  },
  {
   "cell_type": "code",
   "execution_count": 4,
   "metadata": {},
   "outputs": [],
   "source": [
    "from sympy.parsing.sympy_parser import \\\n",
    "  parse_expr, standard_transformations, implicit_multiplication_application, implicit_application, convert_xor\n",
    "from sympy.utilities.autowrap import autowrap\n",
    "\n",
    "def parse_function(raw_expr):\n",
    "  transformations = (standard_transformations +\n",
    "    (implicit_multiplication_application, implicit_application, convert_xor))\n",
    "  f = parse_expr(raw_expr, transformations=transformations)\n",
    "  assert list(map(str, f.free_symbols)) == ['x'], \\\n",
    "    'Функция может содержать только одну свободную переменную, x'\n",
    "  return str(f), autowrap(f)"
   ]
  },
  {
   "cell_type": "code",
   "execution_count": 5,
   "metadata": {},
   "outputs": [
    {
     "data": {
      "text/plain": [
       "(262144, 0.38177277539957866)"
      ]
     },
     "execution_count": 5,
     "metadata": {},
     "output_type": "execute_result"
    }
   ],
   "source": [
    "_, f1 = parse_function(\"x * cos x\")\n",
    "iterate_upto_precision(left_riemann_sum, f1, 0, 1)"
   ]
  }
 ],
 "metadata": {
  "kernelspec": {
   "display_name": "Python 3",
   "language": "python",
   "name": "python3"
  },
  "language_info": {
   "codemirror_mode": {
    "name": "ipython",
    "version": 3
   },
   "file_extension": ".py",
   "mimetype": "text/x-python",
   "name": "python",
   "nbconvert_exporter": "python",
   "pygments_lexer": "ipython3",
   "version": "3.7.1"
  }
 },
 "nbformat": 4,
 "nbformat_minor": 2
}
