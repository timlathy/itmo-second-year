{
 "cells": [
  {
   "cell_type": "markdown",
   "metadata": {},
   "source": [
    "# Численное интегрирование\n",
    "\n"
   ]
  },
  {
   "cell_type": "markdown",
   "metadata": {},
   "source": [
    "## Метод прямоугольников\n",
    "\n",
    "Сумма Римана: $$\\int_a^b f(x) dx \\approx \\sum_{i=1}^n f(x^*_i) \\Delta x_i,\\ \\Delta x_i = x_i - x_{i-1}$$\n",
    "\n",
    "### Метод левых прямоугольников (левая сумма)\n",
    "\n",
    "В качестве $x^*_i$ выбираются левые границы отрезков: $x^*_i = x_{i-1}$."
   ]
  },
  {
   "cell_type": "code",
   "execution_count": 1,
   "metadata": {},
   "outputs": [],
   "source": [
    "def left_riemann_sum(f, a, b, n):\n",
    "  def x(i): return a + i*((b - a) / n)\n",
    "\n",
    "  return sum(f(x(i-1)) * (x(i) - x(i-1)) for i in range(1, n + 1))"
   ]
  },
  {
   "cell_type": "markdown",
   "metadata": {},
   "source": [
    "### Метод правых прямоугольников (правая сумма)\n",
    "\n",
    "В качестве $x^*_i$ выбираются правые границы отрезков: $x^*_i = x_i$."
   ]
  },
  {
   "cell_type": "code",
   "execution_count": 2,
   "metadata": {},
   "outputs": [],
   "source": [
    "def right_riemann_sum(f, a, b, n):\n",
    "  def x(i): return a + i*((b - a) / n)\n",
    "\n",
    "  return sum(f(x(i)) * (x(i) - x(i-1)) for i in range(1, n + 1))"
   ]
  },
  {
   "cell_type": "markdown",
   "metadata": {},
   "source": [
    "### Метод средних прямоугольников (средняя сумма)\n",
    "\n",
    "В качестве $x^*_i$ выбираются середины отрезков: $x^*_i = \\frac{1}{2}(x_{i-1} + x_i)$."
   ]
  },
  {
   "cell_type": "code",
   "execution_count": 3,
   "metadata": {},
   "outputs": [],
   "source": [
    "def midpoint_riemann_sum(f, a, b, n):\n",
    "  def x(i): return a + i*((b - a) / n)\n",
    "\n",
    "  return sum(f((x(i-1) + x(i)) / 2) * (x(i) - x(i-1)) for i in range(1, n + 1))"
   ]
  },
  {
   "cell_type": "markdown",
   "metadata": {},
   "source": [
    "## Метод трапеций\n",
    "\n",
    "$$\\int_a^b f(x) dx \\approx \\sum_{i=1}^n \\frac{f(x_{i-1}) + f(x_i)}{2}\\Delta x_i,\\ \\Delta x_i = x_i - x_{i-1}$$"
   ]
  },
  {
   "cell_type": "code",
   "execution_count": 4,
   "metadata": {},
   "outputs": [],
   "source": [
    "def trapezoidal_rule(f, a, b, n):\n",
    "  def x(i): return a + i*((b - a) / n)\n",
    "  \n",
    "  return sum((f(x(i-1)) + f(x(i))) / 2 * (x(i) - x(i-1)) for i in range(1, n + 1))"
   ]
  },
  {
   "cell_type": "markdown",
   "metadata": {},
   "source": [
    "## Метод Симпсона\n",
    "\n",
    "$$\\int_a^b f(x) dx \\approx \\frac{1}{3} \\frac{(b - a)}{n} \\bigg[\n",
    "f(x_0) + 4\\sum_{i=1,3...}^{n-1} f(x_i) + 2 \\sum_{i=2,4,...}^{n-2} f(x_i) + f(x_n))\n",
    "\\bigg]$$"
   ]
  },
  {
   "cell_type": "code",
   "execution_count": 5,
   "metadata": {},
   "outputs": [],
   "source": [
    "def simpsons_rule(f, a, b, n):\n",
    "  def x(i): return a + i*((b - a) / n)\n",
    "\n",
    "  return (1 / 3) * ((b - a) / n) * (\n",
    "    f(x(0)) + 4*sum(f(x(i)) for i in range(1, n, 2)) + 2*sum(f(x(i)) for i in range(2, n, 2)) + f(x(n)))"
   ]
  },
  {
   "cell_type": "markdown",
   "metadata": {},
   "source": [
    "## Точность расчетов"
   ]
  },
  {
   "cell_type": "code",
   "execution_count": 6,
   "metadata": {},
   "outputs": [],
   "source": [
    "def iterate_upto_precision(method, f, a, b, precision=10**-6):\n",
    "  n = 4\n",
    "  res_n, res2n = 0, 0\n",
    "  while True:\n",
    "    res_n = method(f, a, b, n)\n",
    "    res_2n = method(f, a, b, 2*n)\n",
    "    if abs(res_n - res_2n) > precision:\n",
    "      n *= 2\n",
    "    else:\n",
    "      return n, res_2n"
   ]
  },
  {
   "cell_type": "markdown",
   "metadata": {},
   "source": [
    "## Ввод формул"
   ]
  },
  {
   "cell_type": "code",
   "execution_count": 7,
   "metadata": {},
   "outputs": [],
   "source": [
    "from sympy.parsing.sympy_parser import \\\n",
    "  parse_expr, standard_transformations, implicit_multiplication_application, implicit_application, convert_xor\n",
    "from sympy.utilities.autowrap import autowrap\n",
    "\n",
    "def parse_function(raw_expr):\n",
    "  transformations = (standard_transformations +\n",
    "    (implicit_multiplication_application, implicit_application, convert_xor))\n",
    "  f = parse_expr(raw_expr, transformations=transformations)\n",
    "  assert list(map(str, f.free_symbols)) == ['x'], \\\n",
    "    'Функция может содержать только одну свободную переменную, x'\n",
    "  return str(f), autowrap(f)"
   ]
  },
  {
   "cell_type": "code",
   "execution_count": 8,
   "metadata": {},
   "outputs": [
    {
     "name": "stdout",
     "output_type": "stream",
     "text": [
      "(262144, 0.38177277540321664)\n",
      "(262144, 0.381773805948081)\n",
      "(256, 0.3817734974912673)\n",
      "(512, 0.3817731872684374)\n",
      "(16, 0.3817733024429424)\n"
     ]
    }
   ],
   "source": [
    "_, f1 = parse_function(\"x * cos x\")\n",
    "print(iterate_upto_precision(left_riemann_sum, f1, 0, 1))\n",
    "print(iterate_upto_precision(right_riemann_sum, f1, 0, 1))\n",
    "print(iterate_upto_precision(midpoint_riemann_sum, f1, 0, 1))\n",
    "print(iterate_upto_precision(trapezoidal_rule, f1, 0, 1))\n",
    "print(iterate_upto_precision(simpsons_rule, f1, 0, 1))"
   ]
  }
 ],
 "metadata": {
  "kernelspec": {
   "display_name": "Python 3",
   "language": "python",
   "name": "python3"
  },
  "language_info": {
   "codemirror_mode": {
    "name": "ipython",
    "version": 3
   },
   "file_extension": ".py",
   "mimetype": "text/x-python",
   "name": "python",
   "nbconvert_exporter": "python",
   "pygments_lexer": "ipython3",
   "version": "3.7.1"
  }
 },
 "nbformat": 4,
 "nbformat_minor": 2
}
