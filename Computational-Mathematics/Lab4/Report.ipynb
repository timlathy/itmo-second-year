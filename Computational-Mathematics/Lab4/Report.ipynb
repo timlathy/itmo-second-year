{
 "cells": [
  {
   "cell_type": "markdown",
   "metadata": {},
   "source": [
    "# Численное интегрирование\n",
    "\n"
   ]
  },
  {
   "cell_type": "code",
   "execution_count": 1,
   "metadata": {},
   "outputs": [],
   "source": [
    "%load_ext Cython"
   ]
  },
  {
   "cell_type": "markdown",
   "metadata": {},
   "source": [
    "## Метод прямоугольников\n",
    "\n",
    "Сумма Римана: $$\\int_a^b f(x) dx \\approx \\sum_{i=1}^n f(x^*_i) \\Delta x_i,\\ \\Delta x_i = x_i - x_{i-1}$$\n",
    "\n",
    "### Метод левых прямоугольников (левая сумма)\n",
    "\n",
    "В качестве $x^*_i$ выбираются левые границы отрезков: $x^*_i = x_{i-1}$."
   ]
  },
  {
   "cell_type": "code",
   "execution_count": 2,
   "metadata": {},
   "outputs": [],
   "source": [
    "%%cython\n",
    "def left_riemann_sum(f, float a, float b, int n):\n",
    "  def x(int i): return a + i*((b - a) / n)\n",
    "\n",
    "  return sum(f(x(i-1)) * (x(i) - x(i-1)) for i in range(1, n + 1))"
   ]
  },
  {
   "cell_type": "markdown",
   "metadata": {},
   "source": [
    "### Метод правых прямоугольников (правая сумма)\n",
    "\n",
    "В качестве $x^*_i$ выбираются правые границы отрезков: $x^*_i = x_i$."
   ]
  },
  {
   "cell_type": "code",
   "execution_count": 3,
   "metadata": {},
   "outputs": [],
   "source": [
    "%%cython\n",
    "def right_riemann_sum(f, float a, float b, int n):\n",
    "  def x(int i): return a + i*((b - a) / n)\n",
    "\n",
    "  return sum(f(x(i)) * (x(i) - x(i-1)) for i in range(1, n + 1))"
   ]
  },
  {
   "cell_type": "markdown",
   "metadata": {},
   "source": [
    "### Метод средних прямоугольников (средняя сумма)\n",
    "\n",
    "В качестве $x^*_i$ выбираются середины отрезков: $x^*_i = \\frac{1}{2}(x_{i-1} + x_i)$."
   ]
  },
  {
   "cell_type": "code",
   "execution_count": 4,
   "metadata": {},
   "outputs": [],
   "source": [
    "%%cython\n",
    "def midpoint_riemann_sum(f, float a, float b, int n):\n",
    "  def x(int i): return a + i*((b - a) / n)\n",
    "\n",
    "  return sum(f((x(i-1) + x(i)) / 2) * (x(i) - x(i-1)) for i in range(1, n + 1))"
   ]
  },
  {
   "cell_type": "markdown",
   "metadata": {},
   "source": [
    "## Метод трапеций\n",
    "\n",
    "$$\\int_a^b f(x) dx \\approx \\sum_{i=1}^n \\frac{f(x_{i-1}) + f(x_i)}{2}\\Delta x_i,\\ \\Delta x_i = x_i - x_{i-1}$$"
   ]
  },
  {
   "cell_type": "code",
   "execution_count": 5,
   "metadata": {},
   "outputs": [],
   "source": [
    "%%cython\n",
    "def trapezoidal_rule(f, float a, float b, int n):\n",
    "  def x(int i): return a + i*((b - a) / n)\n",
    "  \n",
    "  return sum((f(x(i-1)) + f(x(i))) / 2 * (x(i) - x(i-1)) for i in range(1, n + 1))"
   ]
  },
  {
   "cell_type": "markdown",
   "metadata": {},
   "source": [
    "## Метод Симпсона\n",
    "\n",
    "$$\\int_a^b f(x) dx \\approx \\frac{1}{3} \\frac{(b - a)}{n} \\bigg[\n",
    "f(x_0) + 4\\sum_{i=1,3...}^{n-1} f(x_i) + 2 \\sum_{i=2,4,...}^{n-2} f(x_i) + f(x_n))\n",
    "\\bigg]$$"
   ]
  },
  {
   "cell_type": "code",
   "execution_count": 6,
   "metadata": {},
   "outputs": [],
   "source": [
    "%%cython\n",
    "def simpsons_rule(f, float a, float b, int n):\n",
    "  def x(int i): return a + i*((b - a) / n)\n",
    "\n",
    "  return (1 / 3) * ((b - a) / n) * (\n",
    "    f(x(0)) + 4*sum(f(x(i)) for i in range(1, n, 2)) + 2*sum(f(x(i)) for i in range(2, n, 2)) + f(x(n)))"
   ]
  },
  {
   "cell_type": "markdown",
   "metadata": {},
   "source": [
    "## Точность расчетов"
   ]
  },
  {
   "cell_type": "code",
   "execution_count": 7,
   "metadata": {},
   "outputs": [],
   "source": [
    "def iterate_upto_precision(method, f, a, b, precision=10**-6):\n",
    "  n = 4\n",
    "  res_n, res2n = 0, 0\n",
    "  while True:\n",
    "    res_n = method(f, a, b, n)\n",
    "    res_2n = method(f, a, b, 2*n)\n",
    "    if abs(res_n - res_2n) > precision:\n",
    "      n *= 2\n",
    "    else:\n",
    "      return n, res_2n"
   ]
  },
  {
   "cell_type": "markdown",
   "metadata": {},
   "source": [
    "## Пользовательский интерфейс"
   ]
  },
  {
   "cell_type": "code",
   "execution_count": 8,
   "metadata": {},
   "outputs": [],
   "source": [
    "from sympy.parsing.sympy_parser import parse_expr, standard_transformations,\\\n",
    "  implicit_multiplication_application, implicit_application, convert_xor\n",
    "from sympy.utilities.autowrap import autowrap\n",
    "\n",
    "def parse_function(raw_expr):\n",
    "  transformations = (standard_transformations +\n",
    "    (implicit_multiplication_application, implicit_application, convert_xor))\n",
    "  f = parse_expr(raw_expr, transformations=transformations)\n",
    "  assert list(map(str, f.free_symbols)) == ['x'], \\\n",
    "    'Функция может содержать только одну свободную переменную, x'\n",
    "  return str(f), autowrap(f)"
   ]
  },
  {
   "cell_type": "code",
   "execution_count": 9,
   "metadata": {},
   "outputs": [
    {
     "name": "stdout",
     "output_type": "stream",
     "text": [
      "Введите функцию с одной переменной для интегрирования:\n",
      "Примеры функций: x * sin 2x, x^2 + 3x + 12, (x+3) / 2^x\n"
     ]
    },
    {
     "data": {
      "application/vnd.jupyter.widget-view+json": {
       "model_id": "011ae4a7b59c45879043393d095b3d9f",
       "version_major": 2,
       "version_minor": 0
      },
      "text/plain": [
       "HBox(children=(Text(value='', placeholder='f(x)'), Button(description='Ввод', style=ButtonStyle())))"
      ]
     },
     "metadata": {},
     "output_type": "display_data"
    },
    {
     "name": "stdout",
     "output_type": "stream",
     "text": [
      "Введенная функция: y = x*sin(2*x)\n"
     ]
    },
    {
     "data": {
      "application/vnd.jupyter.widget-view+json": {
       "model_id": "8aabcc32a1264428b5f1d0e8243ddd82",
       "version_major": 2,
       "version_minor": 0
      },
      "text/plain": [
       "interactive(children=(FloatText(value=0.0, description='a', step=0.1), FloatText(value=0.0, description='b', s…"
      ]
     },
     "metadata": {},
     "output_type": "display_data"
    }
   ],
   "source": [
    "from IPython.display import display\n",
    "import ipywidgets as widgets\n",
    "\n",
    "def eval_function(f_string):\n",
    "  label, f = parse_function(f_string)\n",
    "  print(f'Введенная функция: y = {label}')\n",
    "  \n",
    "  def approx_integrate(a, b, precision, method):\n",
    "    method_f = (left_riemann_sum if method == 'левых прямоугольников' else\n",
    "                right_riemann_sum if method == 'правых прямоугольников' else\n",
    "                midpoint_riemann_sum if method == 'средних прямоугольников' else\n",
    "                trapezoidal_rule if method == 'трапеций' else\n",
    "                simpsons_rule)\n",
    "    print(f'Интегрирование методом {method}...')\n",
    "    n, res = iterate_upto_precision(method_f, f, a, b, precision)\n",
    "    print(f'Результат: {res}, число разбиений интервала n = {n}')\n",
    "  \n",
    "  a = widgets.FloatText(description='a', value=0.0, step=0.1)\n",
    "  b = widgets.FloatText(description='b', value=0.0, step=0.1)\n",
    "  precision = widgets.FloatText(description='Δ', value=0.01, step=0.000001)\n",
    "  method = widgets.RadioButtons(description='Метод:',\n",
    "    options=['левых прямоугольников', 'правых прямоугольников', 'средних прямоугольников', 'трапеций', 'Симпсона']) \n",
    "  widgets.interact(approx_integrate, a=a, b=b, precision=precision, method=method)\n",
    "\n",
    "print('Введите функцию с одной переменной для интегрирования:')\n",
    "print('Примеры функций: x * sin 2x, x^2 + 3x + 12, (x+3) / 2^x')\n",
    "inp = widgets.Text(placeholder='f(x)')\n",
    "inp_button = widgets.Button(description='Ввод')\n",
    "inp_button.on_click(lambda _: eval_function(inp.value))\n",
    "display(widgets.HBox([inp, inp_button]))"
   ]
  }
 ],
 "metadata": {
  "kernelspec": {
   "display_name": "Python 3",
   "language": "python",
   "name": "python3"
  },
  "language_info": {
   "codemirror_mode": {
    "name": "ipython",
    "version": 3
   },
   "file_extension": ".py",
   "mimetype": "text/x-python",
   "name": "python",
   "nbconvert_exporter": "python",
   "pygments_lexer": "ipython3",
   "version": "3.7.1"
  }
 },
 "nbformat": 4,
 "nbformat_minor": 2
}
