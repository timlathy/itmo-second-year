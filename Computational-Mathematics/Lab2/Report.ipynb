{
 "cells": [
  {
   "cell_type": "markdown",
   "metadata": {},
   "source": [
    "# Аппроксимация функции методом наименьших квадратов\n",
    "\n",
    "**Цель работы:** нахождение функции $\\varphi(x)$, которая является наилучшим приближением заданной табличной функции $f(x)$, используя метод наименьших квадратов.\n",
    "\n",
    "В работе рассматриваются следующие аппроксимирующие функции:\n",
    "* *линейная*: $\\varphi(x) = ax + b$\n",
    "* *квадратичная* (полиномиал 2-й степени): $\\varphi(x) = a_0 + a_1x + a_2x^2$\n",
    "* *экспоненциальная*: $\\varphi(x) = a^{ebx}$\n",
    "* *логарифмическая*: $\\varphi(x) = a + b\\cdot ln(x)$\n",
    "* *степенная*: $\\varphi(x) = ax^b$.\n",
    "\n",
    "## Методика исследования\n",
    "\n",
    "Для каждой из исследуемых функций $\\varphi(x)$ вычисляется мера отклонения $S = \\sum_{i=1}^n (\\varphi(x_i) - y_i)^2$"
   ]
  },
  {
   "cell_type": "code",
   "execution_count": 10,
   "metadata": {},
   "outputs": [],
   "source": [
    "def squared_error(f, xs, ys):\n",
    "  return sum((f(x) - y)**2 for (x, y) in zip(xs, ys))"
   ]
  },
  {
   "cell_type": "markdown",
   "metadata": {},
   "source": [
    "Значения коэффициентов $a, b, c$ каждой функции уточняются путем минимизации меры отклонения $S$.\n",
    "\n",
    "### Линейная аппроксимация\n",
    "\n",
    "Для линейной функции мера отклонения принимает вид $S = \\sum_{i=1}^N (ax_i + b - y_i)^2$. Условие минимума в таком случае:\n",
    "\n",
    "\\begin{cases}\\frac{\\partial S}{\\partial a} = 0 \\\\\\\\ \\frac{\\partial S}{\\partial b} = 0\\end{cases}\n",
    "\n",
    "Путем преобразований получим выражения для нахождения $a$ и $b$, при которых $S(a, b)$ принимает минимальное значение:\n",
    "\n",
    "$$a = \\frac{n\\sum x_i y_i - \\sum x_i \\cdot \\sum y_i}{n\\sum x_i^2 - \\sum x_i \\cdot \\sum x_i},\\ b = \\frac{\\sum x_i^2 \\sum y_i - \\sum x_i \\sum x_i y_i}{n\\sum x_i^2 - \\sum x_i \\cdot \\sum x_i}$$"
   ]
  },
  {
   "cell_type": "code",
   "execution_count": 11,
   "metadata": {},
   "outputs": [],
   "source": [
    "import numpy as np\n",
    "\n",
    "def linapprox(xs, ys):\n",
    "  a = (len(xs)*np.sum(xs*ys) - np.sum(xs)*np.sum(ys)) / (len(xs)*np.sum(xs**2) - np.sum(xs)**2)\n",
    "  b = (np.sum(xs**2)*np.sum(ys) - np.sum(xs)*np.sum(xs*ys)) / (len(xs)*np.sum(xs**2) - np.sum(xs)**2)\n",
    "  return lambda x: a*x + b"
   ]
  }
 ],
 "metadata": {
  "kernelspec": {
   "display_name": "Python 3",
   "language": "python",
   "name": "python3"
  },
  "language_info": {
   "codemirror_mode": {
    "name": "ipython",
    "version": 3
   },
   "file_extension": ".py",
   "mimetype": "text/x-python",
   "name": "python",
   "nbconvert_exporter": "python",
   "pygments_lexer": "ipython3",
   "version": "3.6.6"
  }
 },
 "nbformat": 4,
 "nbformat_minor": 2
}
