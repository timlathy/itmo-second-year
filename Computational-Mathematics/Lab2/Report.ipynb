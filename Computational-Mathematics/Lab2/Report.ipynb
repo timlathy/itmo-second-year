{
 "cells": [
  {
   "cell_type": "markdown",
   "metadata": {},
   "source": [
    "# Аппроксимация функции методом наименьших квадратов\n",
    "\n",
    "**Цель работы:** нахождение функции $\\varphi(x)$, которая является наилучшим приближением заданной табличной функции $f(x)$, используя метод наименьших квадратов.\n",
    "\n",
    "В работе рассматриваются следующие аппроксимирующие функции:\n",
    "* *линейная*: $\\varphi(x) = ax + b$\n",
    "* *квадратичная* (полиномиал 2-й степени): $\\varphi(x) = a_0 + a_1x + a_2x^2$\n",
    "* *экспоненциальная*: $\\varphi(x) = a^{ebx}$\n",
    "* *логарифмическая*: $\\varphi(x) = a + b\\cdot ln(x)$\n",
    "* *степенная*: $\\varphi(x) = ax^b$.\n",
    "\n",
    "## Методика исследования\n",
    "\n",
    "Для каждой из исследуемых функций $\\varphi(x)$ вычисляются мера отклонения $S$ и среднеквадратичное отклонение $\\delta$:\n",
    "\n",
    "$$S = \\sum_{i=1}^n (\\varphi(x_i) - y_i)^2,\\ \\delta = \\sqrt{\\frac{\\sum_{i=1}^2 (\\varphi(x_i) - y_i)^2}{n}}$$"
   ]
  },
  {
   "cell_type": "code",
   "execution_count": 1,
   "metadata": {},
   "outputs": [],
   "source": [
    "def squared_error(f, xs, ys):\n",
    "  return sum((f(x) - y)**2 for (x, y) in zip(xs, ys))\n",
    "\n",
    "def stddev(f, xs, ys):\n",
    "  return np.sqrt(squared_error(f, xs, ys) / len(xs))"
   ]
  },
  {
   "cell_type": "markdown",
   "metadata": {},
   "source": [
    "Значения коэффициентов каждой функции уточняются путем минимизации меры отклонения $S$.\n",
    "\n",
    "### Линейная аппроксимация\n",
    "\n",
    "Для линейной функции мера отклонения принимает вид $S = \\sum_{i=1}^N (ax_i + b - y_i)^2$. Условие минимума в таком случае:\n",
    "\n",
    "\\begin{cases}\\frac{\\partial S}{\\partial a} = 0 \\\\\\\\ \\frac{\\partial S}{\\partial b} = 0\\end{cases}\n",
    "\n",
    "Путем преобразований получим выражения для нахождения $a$ и $b$, при которых $S(a, b)$ принимает минимальное значение:\n",
    "\n",
    "$$a = \\frac{n\\sum x_i y_i - \\sum x_i \\cdot \\sum y_i}{n\\sum x_i^2 - \\sum x_i \\cdot \\sum x_i},\\ b = \\frac{\\sum x_i^2 \\sum y_i - \\sum x_i \\sum x_i y_i}{n\\sum x_i^2 - \\sum x_i \\cdot \\sum x_i}$$"
   ]
  },
  {
   "cell_type": "code",
   "execution_count": 2,
   "metadata": {},
   "outputs": [],
   "source": [
    "import numpy as np\n",
    "\n",
    "def linapprox_coeffs(xs, ys):\n",
    "  a = (len(xs)*np.sum(xs*ys) - np.sum(xs)*np.sum(ys)) / (len(xs)*np.sum(xs**2) - np.sum(xs)**2)\n",
    "  b = (np.sum(xs**2)*np.sum(ys) - np.sum(xs)*np.sum(xs*ys)) / (len(xs)*np.sum(xs**2) - np.sum(xs)**2)\n",
    "  return a, b\n",
    "\n",
    "def linapprox(xs, ys):\n",
    "  a, b = linapprox_coeffs(xs, ys)\n",
    "  return (f'Линейная: ${np.round(a, 2)}x {\"+\" if b >= 0 else \"\"} {np.round(b, 2)}$',\n",
    "          lambda x: a*x + b)"
   ]
  },
  {
   "cell_type": "markdown",
   "metadata": {},
   "source": [
    "### Квадратичная аппроксимация\n",
    "\n",
    "Для квадратичной функции мера к минимуму приводится мера отклонения $S = \\sum_{i=1}^N (a_0 + a_1 x_i + a_2 x_i^2 - y_i)^2$. Приравняв к нулю частные производные $S$ по неизвестным параметрам, получим систему, в которой неизвестными выступают коэффициенты $a_0, a_1, a_2$ при $S_{min}(a_0, a_1, a_2)$. Запишем ее в матричной форме:\n",
    "\n",
    "$$\\begin{bmatrix}\n",
    "  n & \\sum x_i & \\sum x_i^2 \\\\\n",
    "  \\sum x_i & \\sum x_i^2 & \\sum x_i^3 \\\\\n",
    "  \\sum x_i^2 & \\sum x_i^3 & \\sum x_i^4\n",
    "\\end{bmatrix} \\cdot \\begin{bmatrix}\n",
    "a_0 \\\\ a_1 \\\\ a_2\n",
    "\\end{bmatrix} = \\begin{bmatrix}\n",
    "\\sum y_i \\\\ \\sum x_i y_i \\\\ \\sum x_i^2 y_i\n",
    "\\end{bmatrix}$$\n"
   ]
  },
  {
   "cell_type": "code",
   "execution_count": 3,
   "metadata": {},
   "outputs": [],
   "source": [
    "def quadapprox(xs, ys):\n",
    "  matrix_a = np.array([\n",
    "    [len(xs), np.sum(xs), np.sum(xs**2)],\n",
    "    [np.sum(xs), np.sum(xs**2), np.sum(xs**3)],\n",
    "    [np.sum(xs**2), np.sum(xs**3), np.sum(xs**4)]\n",
    "  ])\n",
    "  matrix_b = np.array([np.sum(ys), np.sum(xs*ys), np.sum(xs**2 * ys)])\n",
    "  a0, a1, a2 = np.linalg.solve(matrix_a, matrix_b)\n",
    "  return (f'Квадратичная: ${np.round(a0, 2)} {\"+\" if a1 >= 0 else \"\"} {np.round(a1, 2)}x {\"+\" if a2 >= 0 else \"\"} {np.round(a2, 2)}x^2$',\n",
    "          lambda x: a0 + a1*x + a2 * x**2)"
   ]
  },
  {
   "cell_type": "markdown",
   "metadata": {},
   "source": [
    "### Экспоненциальная аппроксимация\n",
    "\n",
    "Для применения метода наименьших квадратов экспоненциальная функция $\\varphi(x) = a^{ebx}$ линеаризуется:\n",
    "\n",
    "$$ln(a^{ebx}) = ln(a) + bx$$\n",
    "\n",
    "Получим линейную зависимость $Y = AX + B$, приняв $Y = ln(\\varphi(x)), X = x, A = ln(a), B = b$. После определения коэффициентов $A$ и $B$ вернемся к принятым выше обозначениям: $a = e^A, b = B$."
   ]
  },
  {
   "cell_type": "code",
   "execution_count": 4,
   "metadata": {},
   "outputs": [],
   "source": [
    "def expapprox(xs, ys):\n",
    "  ln_a, b = linapprox_coeffs(xs, np.log(ys))\n",
    "  a = np.exp(ln_a)\n",
    "  return (f'Экспоненциальная: ${np.round(a, 2)}^{{e{np.round(b, 2)}x}}$',\n",
    "          lambda x: a**(np.e * b * x))"
   ]
  },
  {
   "cell_type": "markdown",
   "metadata": {},
   "source": [
    "### Логарифмическая аппроксимация\n",
    "\n",
    "Как и в случае экспоненциальной аппроксимации, для $\\varphi(x) = a + bln(x)$ вводятся обозначения $Y = y, X = ln(x), A = ln(a), B = b$. После определения линейных коэффициентов восстановим $a = e^A$ и $b = B$."
   ]
  },
  {
   "cell_type": "code",
   "execution_count": 5,
   "metadata": {},
   "outputs": [],
   "source": [
    "def logapprox(xs, ys):\n",
    "  ln_a, b = linapprox_coeffs(np.log(xs), ys)\n",
    "  a = np.exp(ln_a)\n",
    "  return (f'Логарифмическая: ${np.round(a, 2)} {\"+\" if b > 0 else \"\"} {np.round(b, 2)}ln(x)$',\n",
    "          lambda x: a + b*np.log(x))"
   ]
  },
  {
   "cell_type": "markdown",
   "metadata": {},
   "source": [
    "### Степенная аппроксимация\n",
    "\n",
    "Введем для $\\varphi(x) = ax^b$ обозначения $Y = ln(\\varphi(x)), X = ln(x), A = ln(a), B = b$, найдем линейные коэффициенты $A$ и $B$, выразим $a$ и $b$ обратно: $a = e^A, b = B$."
   ]
  },
  {
   "cell_type": "code",
   "execution_count": 6,
   "metadata": {},
   "outputs": [],
   "source": [
    "def powapprox(xs, ys):\n",
    "  ln_a, b = linapprox_coeffs(np.log(xs), np.log(ys))\n",
    "  a = np.exp(ln_a)\n",
    "  return (f'Степенная: ${np.round(a, 2)}x^{{{np.round(b, 2)}}}$',\n",
    "          lambda x: a * x**b)"
   ]
  },
  {
   "cell_type": "markdown",
   "metadata": {},
   "source": [
    "## Нахождение оптимальной функции\n",
    "\n",
    "На основании входных массивов $x$ и $y$ для каждой аппроксимирующей функции находятся оптимальные коэффициенты и рассчитываются значения *меры отклонения* $S$, *среднеквадратичного отклонения* $\\delta$"
   ]
  },
  {
   "cell_type": "code",
   "execution_count": 7,
   "metadata": {},
   "outputs": [
    {
     "data": {
      "text/html": [
       "<div>\n",
       "<style scoped>\n",
       "    .dataframe tbody tr th:only-of-type {\n",
       "        vertical-align: middle;\n",
       "    }\n",
       "\n",
       "    .dataframe tbody tr th {\n",
       "        vertical-align: top;\n",
       "    }\n",
       "\n",
       "    .dataframe thead th {\n",
       "        text-align: right;\n",
       "    }\n",
       "</style>\n",
       "<table border=\"1\" class=\"dataframe\">\n",
       "  <thead>\n",
       "    <tr style=\"text-align: right;\">\n",
       "      <th></th>\n",
       "      <th>Функция</th>\n",
       "      <th>$S$</th>\n",
       "      <th>$\\delta$</th>\n",
       "    </tr>\n",
       "  </thead>\n",
       "  <tbody>\n",
       "    <tr>\n",
       "      <th>0</th>\n",
       "      <td>Линейная: $24.0x  -12.0$</td>\n",
       "      <td>1.260e+02</td>\n",
       "      <td>5.020e+00</td>\n",
       "    </tr>\n",
       "    <tr>\n",
       "      <th>1</th>\n",
       "      <td>Квадратичная: $9.0 + 6.0x + 3.0x^2$</td>\n",
       "      <td>0.000e+00</td>\n",
       "      <td>0.000e+00</td>\n",
       "    </tr>\n",
       "    <tr>\n",
       "      <th>2</th>\n",
       "      <td>Экспоненциальная: $1.58^{e2.52x}$</td>\n",
       "      <td>4.770e+13</td>\n",
       "      <td>3.089e+06</td>\n",
       "    </tr>\n",
       "    <tr>\n",
       "      <th>3</th>\n",
       "      <td>Логарифмическая: $2.4384110215111256e+24 + 6.2...</td>\n",
       "      <td>2.973e+49</td>\n",
       "      <td>2.438e+24</td>\n",
       "    </tr>\n",
       "    <tr>\n",
       "      <th>4</th>\n",
       "      <td>Степенная: $3.13x^{2.81}$</td>\n",
       "      <td>3.598e+04</td>\n",
       "      <td>8.483e+01</td>\n",
       "    </tr>\n",
       "  </tbody>\n",
       "</table>\n",
       "</div>"
      ],
      "text/plain": [
       "                                             Функция       $S$  $\\delta$\n",
       "0                           Линейная: $24.0x  -12.0$ 1.260e+02 5.020e+00\n",
       "1                Квадратичная: $9.0 + 6.0x + 3.0x^2$ 0.000e+00 0.000e+00\n",
       "2                  Экспоненциальная: $1.58^{e2.52x}$ 4.770e+13 3.089e+06\n",
       "3  Логарифмическая: $2.4384110215111256e+24 + 6.2... 2.973e+49 2.438e+24\n",
       "4                          Степенная: $3.13x^{2.81}$ 3.598e+04 8.483e+01"
      ]
     },
     "execution_count": 7,
     "metadata": {},
     "output_type": "execute_result"
    }
   ],
   "source": [
    "import pandas as pd\n",
    "\n",
    "xs = np.array([1, 2, 3, 4, 5])\n",
    "ys = np.array([3 * x**2 + 6*x + 9 for x in xs])\n",
    "\n",
    "def analyze_function(fn_builder):\n",
    "  label, f = fn_builder(xs, ys)\n",
    "  return [label, squared_error(f, xs, ys), stddev(f, xs, ys)]\n",
    "\n",
    "results = np.array(list(map(analyze_function, [linapprox, quadapprox, expapprox, logapprox, powapprox])))\n",
    "\n",
    "pd.options.display.float_format = '{:.3e}'.format\n",
    "df = pd.DataFrame(results, columns=[\"Функция\", \"$S$\", \"$\\delta$\"])\n",
    "df[\"$S$\"] = df[\"$S$\"].astype('float')\n",
    "df[\"$\\delta$\"] = df[\"$\\delta$\"].astype('float')\n",
    "df.round(3)"
   ]
  }
 ],
 "metadata": {
  "kernelspec": {
   "display_name": "Python 3",
   "language": "python",
   "name": "python3"
  },
  "language_info": {
   "codemirror_mode": {
    "name": "ipython",
    "version": 3
   },
   "file_extension": ".py",
   "mimetype": "text/x-python",
   "name": "python",
   "nbconvert_exporter": "python",
   "pygments_lexer": "ipython3",
   "version": "3.6.6"
  }
 },
 "nbformat": 4,
 "nbformat_minor": 2
}
