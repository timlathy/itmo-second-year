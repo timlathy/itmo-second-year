{
 "cells": [
  {
   "cell_type": "markdown",
   "metadata": {},
   "source": [
    "# Интерполяция функции\n",
    "\n",
    "**Цель работы**: решить задачу интерполяции — нахождения значения функции $y = f(x)$, заданной на отрезке $[a, b]$ парами $(x_i, y_i)$, в тех точках $x\\in[a,b]$, для которых пара $(x, y)$ отсутствует, т.е. для промежуточных аргументов.\n",
    "\n",
    "Для исследования использовать:\n",
    "* линейную и квадратичную интерполяцию\n",
    "* многочлен Лагранжа\n",
    "* многочлен Ньютона\n"
   ]
  },
  {
   "cell_type": "markdown",
   "metadata": {},
   "source": [
    "## Линейная интерполяция\n",
    "\n",
    "Линейная интерполяция _локальна_ (различные коэффициенты между каждым из узлов $(x_{i-1}, y_{i-1})$, $(x_i, y_i)$). Для нахождения значения функции в точке $x$ необходимо:\n",
    "1. Найти два смежных узла $x_{i-1}$ и $x_i$, между которыми располагается $x$, то есть выполняется условие $x_{i-1} \\leq x \\leq x_i$;\n",
    "2. Соединить $x_{i-1}$ и $x_i$ прямой $y = ax + b$, коэффициенты которой определяются как:\n",
    "$$a = \\frac{y_i - y_{i-1}}{x_i - x_{i-1}},\\ b = y_{i-1} - a \\cdot x_{i-1}$$;\n",
    "3. Найти значение функции, подставив $x$ в уравнение прямой."
   ]
  },
  {
   "cell_type": "code",
   "execution_count": 1,
   "metadata": {},
   "outputs": [],
   "source": [
    "def linear_interp(xy_table, x):\n",
    "  i = next(i for i, [x_i, y_i] in enumerate(xy_table) if x_i > x)\n",
    "  x_i, y_i = xy_table[i]\n",
    "  x_i_prev, y_i_prev = xy_table[i - 1]\n",
    "  \n",
    "  a = (y_i - y_i_prev) / (x_i - x_i_prev)\n",
    "  b = y_i_prev - a*x_i_prev\n",
    "  \n",
    "  return a*x + b"
   ]
  },
  {
   "cell_type": "markdown",
   "metadata": {},
   "source": [
    "## Загрузка входных данных из файла\n",
    "\n",
    "_Вариант 10_"
   ]
  },
  {
   "cell_type": "code",
   "execution_count": 2,
   "metadata": {},
   "outputs": [
    {
     "name": "stdout",
     "output_type": "stream",
     "text": [
      "Результат линейной интерполяции для x = 0.622: 0.5524625\n"
     ]
    }
   ],
   "source": [
    "import numpy as np\n",
    "\n",
    "filename = 'input'\n",
    "xy_table = np.sort(np.loadtxt(filename), axis=0).tolist()\n",
    "\n",
    "print(f'Результат линейной интерполяции для x = 0.622: {linear_interp(xy_table, 0.622)}')"
   ]
  },
  {
   "cell_type": "code",
   "execution_count": 3,
   "metadata": {},
   "outputs": [
    {
     "data": {
      "text/plain": [
       "[[0.593, 0.532],\n",
       " [0.598, 0.5356],\n",
       " [0.605, 0.5406],\n",
       " [0.613, 0.5462],\n",
       " [0.619, 0.5504],\n",
       " [0.627, 0.5559],\n",
       " [0.632, 0.5594]]"
      ]
     },
     "execution_count": 3,
     "metadata": {},
     "output_type": "execute_result"
    }
   ],
   "source": [
    "xy_table"
   ]
  }
 ],
 "metadata": {
  "kernelspec": {
   "display_name": "Python 3",
   "language": "python",
   "name": "python3"
  },
  "language_info": {
   "codemirror_mode": {
    "name": "ipython",
    "version": 3
   },
   "file_extension": ".py",
   "mimetype": "text/x-python",
   "name": "python",
   "nbconvert_exporter": "python",
   "pygments_lexer": "ipython3",
   "version": "3.6.6"
  }
 },
 "nbformat": 4,
 "nbformat_minor": 2
}
