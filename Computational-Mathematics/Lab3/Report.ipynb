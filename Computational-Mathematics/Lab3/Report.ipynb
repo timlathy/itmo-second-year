{
 "cells": [
  {
   "cell_type": "markdown",
   "metadata": {},
   "source": [
    "# Интерполяция функции\n",
    "\n",
    "**Цель работы**: решить задачу интерполяции — нахождения значения функции $y = f(x)$, заданной на отрезке $[a, b]$ парами $(x_i, y_i)$, в тех точках $x\\in[a,b]$, для которых пара $(x, y)$ отсутствует, т.е. для промежуточных аргументов.\n",
    "\n",
    "Для исследования использовать:\n",
    "* линейную и квадратичную интерполяцию\n",
    "* многочлен Лагранжа\n",
    "* многочлен Ньютона\n"
   ]
  },
  {
   "cell_type": "markdown",
   "metadata": {},
   "source": [
    "## Линейная интерполяция\n",
    "\n",
    "Линейная интерполяция _локальна_ (различные коэффициенты между каждым из узлов $(x_{i-1}, y_{i-1})$, $(x_i, y_i)$). Для нахождения значения функции в точке $x$ необходимо:\n",
    "1. Найти два смежных узла $x_{i-1}$ и $x_i$, между которыми располагается $x$, то есть выполняется условие $x_{i-1} \\leq x \\leq x_i$;\n",
    "2. Соединить $x_{i-1}$ и $x_i$ прямой $y = ax + b$, коэффициенты которой определяются как:\n",
    "$$a = \\frac{y_i - y_{i-1}}{x_i - x_{i-1}},\\ b = y_{i-1} - a \\cdot x_{i-1}$$;\n",
    "3. Найти значение функции, подставив $x$ в уравнение прямой."
   ]
  },
  {
   "cell_type": "code",
   "execution_count": 1,
   "metadata": {},
   "outputs": [],
   "source": [
    "def linear_interp(xy_table, x):\n",
    "  i = next(i for i, [x_i, y_i] in enumerate(xy_table) if x_i > x)\n",
    "  x_i, y_i = xy_table[i]\n",
    "  x_i_prev, y_i_prev = xy_table[i - 1]\n",
    "  \n",
    "  a = (y_i - y_i_prev) / (x_i - x_i_prev)\n",
    "  b = y_i_prev - a*x_i_prev\n",
    "  \n",
    "  return a*x + b"
   ]
  },
  {
   "cell_type": "markdown",
   "metadata": {},
   "source": [
    "## Квадратичная интерполяция\n",
    "\n",
    "Для нахождения коэффициентов квадратичной интерполяционной функции $y = a_ix^2 + b_ix + c_i$ необходимы значения трех узлов — $x_{i-1}$, $x_i$, $x_{i+1}$:\n",
    "\n",
    "\\begin{cases} a_i x_{i-1}^2 + b_i x_{i-1} + c_i = y_{i-1} \\\\ a_i x_i^2 + b_i x_i + c_i = y_i \\\\ a_i x_{i+1}^2 + b_i x_{i+1} + c_i = y_{i+1} \\end{cases}\n",
    "\n",
    "В матричной форме система примет следующий вид:\n",
    "\n",
    "\n",
    "$$\\begin{bmatrix}\n",
    "  x_{i-1}^2 & x_{i-1} & 1 \\\\\n",
    "  x_i^2 & x_i & 1 \\\\\n",
    "  x_{i+1}^2 & x_{i+1} & 1\n",
    "\\end{bmatrix} \\cdot \\begin{bmatrix}\n",
    "a_i \\\\ b_i \\\\ c_i\n",
    "\\end{bmatrix} = \\begin{bmatrix}\n",
    "y_{i-1} \\\\ y_i \\\\ y_{i+1}\n",
    "\\end{bmatrix}$$"
   ]
  },
  {
   "cell_type": "code",
   "execution_count": 2,
   "metadata": {},
   "outputs": [],
   "source": [
    "import numpy as np\n",
    "\n",
    "def quadratic_interp(xy_table, x):\n",
    "  i = next(i for i, [x_i, y_i] in enumerate(xy_table) if x_i > x)\n",
    "  [x1, y1], [x2, y2], [x3, y3] = xy_table[(slice(i-1,i+2) if i < len(xy_table) - 1 else slice(i-3,i))] \n",
    "  \n",
    "  a, b, c = np.linalg.solve(np.array([[x1**2, x1, 1], [x2**2, x2, 1], [x3**2, x3, 1]]), np.array([y1, y2, y3]))\n",
    "  \n",
    "  return a*x**2 + b*x + c"
   ]
  },
  {
   "cell_type": "markdown",
   "metadata": {},
   "source": [
    "## Многочлен Лагранжа\n",
    "\n",
    "Неизвестные значения функции $f(x) = y$ вычисляются как значения интерполяционного многочлена Лагранжа $Ln(x)$, который принимает данные значения $y_0, ..., y_i$ в наборе точек $x_0, ..., x_i$.\n",
    "\n",
    "$$Ln(x) = \\sum_{i=0}^{n-1} y_i \\prod_{j=0,\\ j\\neq i}^{n-1} \\frac{x - x_j}{x_i - x_j}$$"
   ]
  },
  {
   "cell_type": "code",
   "execution_count": 3,
   "metadata": {},
   "outputs": [],
   "source": [
    "def lagrange_interp(xy_table, x):\n",
    "  return sum(y_i * np.prod(list((x - x_j) / (x_i - x_j) for j, [x_j, _] in enumerate(xy_table) if i != j))\n",
    "             for i, [x_i, y_i] in enumerate(xy_table))"
   ]
  },
  {
   "cell_type": "markdown",
   "metadata": {},
   "source": [
    "## Интерполяционные формулы Ньютона для равноотстоящих узлов\n",
    "\n",
    "Если узлы интерполяции равноотстоящие и упорядочены по величине, то есть $x_{i+1} - x_i = h = const$, то интерполяционный многочлен может быть записан в форме Ньютона.\n",
    "\n",
    "### Прямая формула (для интерполирования вперед)\n",
    "\n",
    "Для вычисления значений функции в точках левой половины отрезка обычно используют следующую формулу:\n",
    "\n",
    "$$Nn(x) = y_i + t\\Delta y_{i-1} + \\frac{t(t-1)}{2!}\\Delta^2 y_i + ... + \\frac{\\prod_{j=0}^{n-1} (t-j)}{n!}\\Delta^n y_i,\\ t = \\frac{x - x_i}{h}$$\n",
    "\n",
    "Где $\\Delta y_i = y_{i+1} - y_i$ (конечная разность первого порядка), $\\Delta^n y_i = \\Delta^{n-1} y_{i+1} - \\Delta^{n-1} y_i$ (конечная разность $n$-ого порядка)."
   ]
  },
  {
   "cell_type": "code",
   "execution_count": 4,
   "metadata": {},
   "outputs": [],
   "source": [
    "from math import factorial\n",
    "\n",
    "def finite_diff(ys, n, i):\n",
    "  return (ys[i + 1] - ys[i]) if n == 0 else (finite_diff(ys, n - 1, i + 1) - finite_diff(ys, n - 1, i))\n",
    "\n",
    "def newton_forward_interp(xy_table, x):\n",
    "  xs, ys = np.transpose(xy_table).tolist()\n",
    "  i = next(i - 1 for i, x_i in enumerate(xs) if x_i > x)\n",
    "  x_i = xs[i]\n",
    "  h = xs[1] - xs[0]\n",
    "  t = (x - x_i) / h\n",
    "\n",
    "  return ys[i] + sum(np.prod(list(t - k for k in range(j))) / factorial(j - 1) * finite_diff(ys, j - 1, i)\n",
    "             for j in range(1, len(xs) - 1 - i))"
   ]
  },
  {
   "cell_type": "markdown",
   "metadata": {},
   "source": [
    "##  Интерполяционная формула Ньютона для неравноотстоящих узлов\n",
    "\n",
    "$$Nn(x) = f(x_0) + \\sum_{k=1}^n f(x_0, x_1, ..., x_k) \\prod_{j=0}^{k-1} (x - x_j)$$\n",
    "\n",
    "Где $f(x_0, ..., x_k)$ — _разделенные разности_ $k$-порядка. В данной работе мы ограничимся разностями порядка до $k = 2$.\n",
    "\n",
    "Разделенные разности нулевого порядка равны значению функции в узле, то есть $f(x_i) = y_i$; разности высших порядков выражаются как:\n",
    "\n",
    "$$f(x_i, x_{i+1}) = \\frac{f(x_{i+1}) - f(x_i)}{x_{i+1} - x_i}$$\n",
    "$$f(x_i, x_{i+1}, x_{i+2}) = \\frac{f(x_{i+1}, x_{i+2}) - f(x_i, x_{i+1})}{x_{i+2} - x_i}$$"
   ]
  },
  {
   "cell_type": "code",
   "execution_count": 5,
   "metadata": {},
   "outputs": [],
   "source": [
    "def newton_ddiff_interp(xy_table, x, indexes):\n",
    "  xs, ys = np.transpose(xy_table).tolist()\n",
    "\n",
    "  def ddiff_1st(i_0, i_1):\n",
    "    return (ys[i_1] - ys[i_0]) / (xs[i_1] - xs[i_0])\n",
    "  def ddiff_2nd(i_0, i_1, i_2):\n",
    "    return (ddiff_1st(i_1, i_2) - ddiff_1st(i_0, i_1)) / (xs[i_2] - xs[i_0])\n",
    "\n",
    "  i_0, i_1, i_2 = indexes\n",
    "\n",
    "  return ys[i_0] + (x - xs[i_0])*ddiff_1st(i_0, i_1) + (x - xs[i_0])*(x - xs[i_1])*ddiff_2nd(i_0, i_1, i_2)"
   ]
  },
  {
   "cell_type": "markdown",
   "metadata": {},
   "source": [
    "## Чтение исходных данных из файла и запись результата\n",
    "\n",
    "_Вариант 10_"
   ]
  },
  {
   "cell_type": "code",
   "execution_count": 6,
   "metadata": {},
   "outputs": [
    {
     "data": {
      "application/vnd.jupyter.widget-view+json": {
       "model_id": "29cbb0c2640f405ba990cc25133dda8c",
       "version_major": 2,
       "version_minor": 0
      },
      "text/plain": [
       "HBox(children=(Text(value='', layout=Layout(width='600px'), placeholder='Путь к файлу с исходными данными — ст…"
      ]
     },
     "metadata": {},
     "output_type": "display_data"
    },
    {
     "data": {
      "text/html": [
       "<div>\n",
       "<style scoped>\n",
       "    .dataframe tbody tr th:only-of-type {\n",
       "        vertical-align: middle;\n",
       "    }\n",
       "\n",
       "    .dataframe tbody tr th {\n",
       "        vertical-align: top;\n",
       "    }\n",
       "\n",
       "    .dataframe thead th {\n",
       "        text-align: right;\n",
       "    }\n",
       "</style>\n",
       "<table border=\"1\" class=\"dataframe\">\n",
       "  <thead>\n",
       "    <tr style=\"text-align: right;\">\n",
       "      <th></th>\n",
       "      <th>X</th>\n",
       "      <th>Y</th>\n",
       "    </tr>\n",
       "  </thead>\n",
       "  <tbody>\n",
       "    <tr>\n",
       "      <th>0</th>\n",
       "      <td>0.593</td>\n",
       "      <td>0.5320</td>\n",
       "    </tr>\n",
       "    <tr>\n",
       "      <th>1</th>\n",
       "      <td>0.598</td>\n",
       "      <td>0.5356</td>\n",
       "    </tr>\n",
       "    <tr>\n",
       "      <th>2</th>\n",
       "      <td>0.605</td>\n",
       "      <td>0.5406</td>\n",
       "    </tr>\n",
       "    <tr>\n",
       "      <th>3</th>\n",
       "      <td>0.613</td>\n",
       "      <td>0.5462</td>\n",
       "    </tr>\n",
       "    <tr>\n",
       "      <th>4</th>\n",
       "      <td>0.619</td>\n",
       "      <td>0.5504</td>\n",
       "    </tr>\n",
       "    <tr>\n",
       "      <th>5</th>\n",
       "      <td>0.627</td>\n",
       "      <td>0.5559</td>\n",
       "    </tr>\n",
       "    <tr>\n",
       "      <th>6</th>\n",
       "      <td>0.632</td>\n",
       "      <td>0.5594</td>\n",
       "    </tr>\n",
       "  </tbody>\n",
       "</table>\n",
       "</div>"
      ],
      "text/plain": [
       "       X       Y\n",
       "0  0.593  0.5320\n",
       "1  0.598  0.5356\n",
       "2  0.605  0.5406\n",
       "3  0.613  0.5462\n",
       "4  0.619  0.5504\n",
       "5  0.627  0.5559\n",
       "6  0.632  0.5594"
      ]
     },
     "metadata": {},
     "output_type": "display_data"
    },
    {
     "name": "stdout",
     "output_type": "stream",
     "text": [
      "Аргумент x для интерполяции:\n"
     ]
    },
    {
     "data": {
      "application/vnd.jupyter.widget-view+json": {
       "model_id": "0c66cbd5649f498897a8c58ebef4de3e",
       "version_major": 2,
       "version_minor": 0
      },
      "text/plain": [
       "interactive(children=(FloatText(value=0.5, description='x', step=0.01), Output()), _dom_classes=('widget-inter…"
      ]
     },
     "metadata": {},
     "output_type": "display_data"
    }
   ],
   "source": [
    "from IPython.display import display\n",
    "import ipywidgets as widgets\n",
    "import pandas as pd\n",
    "\n",
    "def display_file_input(file_chosen_cb, placeholder, button_text):\n",
    "  file_input = widgets.Text(placeholder=placeholder, layout=widgets.Layout(width='600px'))\n",
    "  file_input_button = widgets.Button(description=button_text)\n",
    "  file_input_button.on_click(lambda _: file_chosen_cb(file_input.value))\n",
    "  display(widgets.HBox([file_input, file_input_button]))\n",
    "\n",
    "def run(filename):\n",
    "  xy_table = np.sort(np.loadtxt(filename), axis=0).tolist()\n",
    "  display(pd.DataFrame(xy_table, columns=[\"X\", \"Y\"]))\n",
    "\n",
    "  def interpolate(x):\n",
    "    x_min, x_max = np.min(np.array(xy_table)[:, 0]), np.max(np.array(xy_table)[:, 0])\n",
    "    if x < x_min or x > x_max:\n",
    "      print(f'Входной параметр x = {x} не принадлежит отрезку [{x_min}, {x_max}], на котором определена функция')\n",
    "      return\n",
    "\n",
    "    print(f'Линейная интерполяция, x = {x}: {linear_interp(xy_table, x)}')\n",
    "    print(f'Квадратичная интерполяция, x = {x}: {quadratic_interp(xy_table, x)}')\n",
    "    print(f'Многочлен Лагранжа, x = {x}: {lagrange_interp(xy_table, x)}')\n",
    "    print(f'Прямая формула Ньютона, x = {x}: {newton_forward_interp(xy_table, x)}')\n",
    "    print(f'Формула Ньютона для неравноотстоящих узлов, x = {x}, узлы x_0, x_1, x_2: {newton_ddiff_interp(xy_table, x, indexes=[0, 1, 2])}')\n",
    "    print(f'Формула Ньютона для неравноотстоящих узлов, x = {x}, узлы x_2, x_3, x_4: {newton_ddiff_interp(xy_table, x, indexes=[2, 3, 4])}')\n",
    " \n",
    "  print('Аргумент x для интерполяции:')\n",
    "  widgets.interact(interpolate, x=widgets.FloatText(value=0.5, step=0.01))\n",
    "\n",
    "display_file_input(run, 'Путь к файлу с исходными данными — строками пар значений X и Y, разделенных пробелом', 'Открыть')"
   ]
  }
 ],
 "metadata": {
  "kernelspec": {
   "display_name": "Python 3",
   "language": "python",
   "name": "python3"
  },
  "language_info": {
   "codemirror_mode": {
    "name": "ipython",
    "version": 3
   },
   "file_extension": ".py",
   "mimetype": "text/x-python",
   "name": "python",
   "nbconvert_exporter": "python",
   "pygments_lexer": "ipython3",
   "version": "3.6.7"
  }
 },
 "nbformat": 4,
 "nbformat_minor": 2
}
