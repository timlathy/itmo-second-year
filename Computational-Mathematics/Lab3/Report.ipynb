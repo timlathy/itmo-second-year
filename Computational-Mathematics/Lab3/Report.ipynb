{
 "cells": [
  {
   "cell_type": "markdown",
   "metadata": {},
   "source": [
    "# Интерполяция функции\n",
    "\n",
    "**Цель работы**: решить задачу интерполяции — нахождения значения функции $y = f(x)$, заданной на отрезке $[a, b]$ парами $(x_i, y_i)$, в тех точках $x\\in[a,b]$, для которых пара $(x, y)$ отсутствует, т.е. для промежуточных аргументов.\n",
    "\n",
    "Для исследования использовать:\n",
    "* линейную и квадратичную интерполяцию\n",
    "* многочлен Лагранжа\n",
    "* многочлен Ньютона\n"
   ]
  },
  {
   "cell_type": "markdown",
   "metadata": {},
   "source": [
    "## Линейная интерполяция\n",
    "\n",
    "Линейная интерполяция _локальна_ (различные коэффициенты между каждым из узлов $(x_{i-1}, y_{i-1})$, $(x_i, y_i)$). Для нахождения значения функции в точке $x$ необходимо:\n",
    "1. Найти два смежных узла $x_{i-1}$ и $x_i$, между которыми располагается $x$, то есть выполняется условие $x_{i-1} \\leq x \\leq x_i$;\n",
    "2. Соединить $x_{i-1}$ и $x_i$ прямой $y = ax + b$, коэффициенты которой определяются как:\n",
    "$$a = \\frac{y_i - y_{i-1}}{x_i - x_{i-1}},\\ b = y_{i-1} - a \\cdot x_{i-1}$$;\n",
    "3. Найти значение функции, подставив $x$ в уравнение прямой."
   ]
  },
  {
   "cell_type": "code",
   "execution_count": 1,
   "metadata": {},
   "outputs": [],
   "source": [
    "def linear_interp(xy_table, x):\n",
    "  i = next(i for i, [x_i, y_i] in enumerate(xy_table) if x_i > x)\n",
    "  x_i, y_i = xy_table[i]\n",
    "  x_i_prev, y_i_prev = xy_table[i - 1]\n",
    "  \n",
    "  a = (y_i - y_i_prev) / (x_i - x_i_prev)\n",
    "  b = y_i_prev - a*x_i_prev\n",
    "  \n",
    "  return a*x + b"
   ]
  },
  {
   "cell_type": "markdown",
   "metadata": {},
   "source": [
    "## Квадратичная интерполяция\n",
    "\n",
    "Для нахождения коэффициентов квадратичной интерполяционной функции $y = a_ix^2 + b_ix + c_i$ необходимы значения трех узлов — $x_{i-1}$, $x_i$, $x_{i+1}$:\n",
    "\n",
    "\\begin{cases} a_i x_{i-1}^2 + b_i x_{i-1} + c_i = y_{i-1} \\\\ a_i x_i^2 + b_i x_i + c_i = y_i \\\\ a_i x_{i+1}^2 + b_i x_{i+1} + c_i = y_{i+1} \\end{cases}\n",
    "\n",
    "В матричной форме система примет следующий вид:\n",
    "\n",
    "\n",
    "$$\\begin{bmatrix}\n",
    "  x_{i-1}^2 & x_{i-1} & 1 \\\\\n",
    "  x_i^2 & x_i & 1 \\\\\n",
    "  x_{i+1}^2 & x_{i+1} & 1\n",
    "\\end{bmatrix} \\cdot \\begin{bmatrix}\n",
    "a_i \\\\ b_i \\\\ c_i\n",
    "\\end{bmatrix} = \\begin{bmatrix}\n",
    "y_{i-1} \\\\ y_i \\\\ y_{i+1}\n",
    "\\end{bmatrix}$$"
   ]
  },
  {
   "cell_type": "code",
   "execution_count": 2,
   "metadata": {},
   "outputs": [],
   "source": [
    "import numpy as np\n",
    "\n",
    "def quadratic_interp(xy_table, x):\n",
    "  i = next(i for i, [x_i, y_i] in enumerate(xy_table) if x_i > x)\n",
    "  [x1, y1], [x2, y2], [x3, y3] = xy_table[(slice(i-1,i+2) if i < len(xy_table) - 1 else slice(i-3,i))] \n",
    "  \n",
    "  a, b, c = np.linalg.solve(np.array([[x1**2, x1, 1], [x2**2, x2, 1], [x3**2, x3, 1]]), np.array([y1, y2, y3]))\n",
    "  \n",
    "  return a*x**2 + b*x + c"
   ]
  },
  {
   "cell_type": "markdown",
   "metadata": {},
   "source": [
    "## Загрузка входных данных из файла\n",
    "\n",
    "_Вариант 10_"
   ]
  },
  {
   "cell_type": "code",
   "execution_count": 3,
   "metadata": {},
   "outputs": [
    {
     "name": "stdout",
     "output_type": "stream",
     "text": [
      "Результат линейной интерполяции для x = 0.622: 0.5524625\n",
      "Результат квадратичной интерполяции для x = 0.622: 0.5524480769230771\n"
     ]
    }
   ],
   "source": [
    "import numpy as np\n",
    "\n",
    "filename = 'input'\n",
    "xy_table = np.sort(np.loadtxt(filename), axis=0).tolist()\n",
    "\n",
    "print(f'Результат линейной интерполяции для x = 0.622: {linear_interp(xy_table, 0.622)}')\n",
    "print(f'Результат квадратичной интерполяции для x = 0.622: {quadratic_interp(xy_table, 0.622)}')"
   ]
  },
  {
   "cell_type": "code",
   "execution_count": 4,
   "metadata": {},
   "outputs": [
    {
     "data": {
      "text/plain": [
       "[[0.593, 0.532],\n",
       " [0.598, 0.5356],\n",
       " [0.605, 0.5406],\n",
       " [0.613, 0.5462],\n",
       " [0.619, 0.5504],\n",
       " [0.627, 0.5559],\n",
       " [0.632, 0.5594]]"
      ]
     },
     "execution_count": 4,
     "metadata": {},
     "output_type": "execute_result"
    }
   ],
   "source": [
    "xy_table"
   ]
  }
 ],
 "metadata": {
  "kernelspec": {
   "display_name": "Python 3",
   "language": "python",
   "name": "python3"
  },
  "language_info": {
   "codemirror_mode": {
    "name": "ipython",
    "version": 3
   },
   "file_extension": ".py",
   "mimetype": "text/x-python",
   "name": "python",
   "nbconvert_exporter": "python",
   "pygments_lexer": "ipython3",
   "version": "3.6.6"
  }
 },
 "nbformat": 4,
 "nbformat_minor": 2
}
